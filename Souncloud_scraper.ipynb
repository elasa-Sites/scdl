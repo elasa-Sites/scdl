{
  "nbformat": 4,
  "nbformat_minor": 0,
  "metadata": {
    "colab": {
      "name": "Copy of COLAB_stock_prediction (1).ipynb",
      "provenance": [],
      "collapsed_sections": [],
      "include_colab_link": true
    },
    "kernelspec": {
      "display_name": "Python 3",
      "name": "python3"
    },
    "language_info": {
      "codemirror_mode": {
        "name": "ipython",
        "version": 3
      },
      "file_extension": ".py",
      "mimetype": "text/x-python",
      "name": "python",
      "nbconvert_exporter": "python",
      "pygments_lexer": "ipython3",
      "version": "3.6.1"
    }
  },
  "cells": [
    {
      "cell_type": "markdown",
      "metadata": {
        "id": "view-in-github",
        "colab_type": "text"
      },
      "source": [
        "<a href=\"https://colab.research.google.com/github/elasa-Sites/scdl/blob/master/Souncloud_scraper.ipynb\" target=\"_parent\"><img src=\"https://colab.research.google.com/assets/colab-badge.svg\" alt=\"Open In Colab\"/></a>"
      ]
    },
    {
      "cell_type": "markdown",
      "metadata": {
        "id": "XH3lVg7BYKRM"
      },
      "source": [
        "#Trying for downloading the soundcloud music files by some python module\n",
        "\n",
        "##1- first try by **[scdl][1]** python module, as you can see below:\n",
        "\n",
        "[![enter image description here][2]][2]\n",
        "\n",
        "\n",
        "  [1]: https://github.com/flyingrub/scdl\n",
        "  [2]: https://i.stack.imgur.com/gdI8p.png"
      ]
    },
    {
      "cell_type": "code",
      "metadata": {
        "id": "U2FTAwwQYJqe",
        "colab": {
          "base_uri": "https://localhost:8080/"
        },
        "outputId": "e685384c-3c29-4a01-cc14-908e60f72c03"
      },
      "source": [
        "!pip3 install git+https://github.com/flyingrub/scdl\n",
        "!scdl -l https://soundcloud.com/pandadub/sets/the-lost-ship --download-archive archive.txt -c"
      ],
      "execution_count": 1,
      "outputs": [
        {
          "output_type": "stream",
          "text": [
            "Collecting git+https://github.com/flyingrub/scdl\n",
            "  Cloning https://github.com/flyingrub/scdl to /tmp/pip-req-build-toej6osp\n",
            "  Running command git clone -q https://github.com/flyingrub/scdl /tmp/pip-req-build-toej6osp\n",
            "Requirement already satisfied: docopt in /usr/local/lib/python3.7/dist-packages (from scdl==1.6.12) (0.6.2)\n",
            "Collecting mutagen\n",
            "\u001b[?25l  Downloading https://files.pythonhosted.org/packages/16/b3/f7aa8edf2ff4495116f95fd442b2a346aa55d1d46313143c8814886dbcdb/mutagen-1.45.1-py3-none-any.whl (218kB)\n",
            "\u001b[K     |████████████████████████████████| 225kB 5.1MB/s \n",
            "\u001b[?25hRequirement already satisfied: termcolor in /usr/local/lib/python3.7/dist-packages (from scdl==1.6.12) (1.1.0)\n",
            "Requirement already satisfied: requests in /usr/local/lib/python3.7/dist-packages (from scdl==1.6.12) (2.23.0)\n",
            "Collecting clint\n",
            "  Downloading https://files.pythonhosted.org/packages/3d/b4/41ecb1516f1ba728f39ee7062b9dac1352d39823f513bb6f9e8aeb86e26d/clint-0.5.1.tar.gz\n",
            "Requirement already satisfied: chardet<4,>=3.0.2 in /usr/local/lib/python3.7/dist-packages (from requests->scdl==1.6.12) (3.0.4)\n",
            "Requirement already satisfied: urllib3!=1.25.0,!=1.25.1,<1.26,>=1.21.1 in /usr/local/lib/python3.7/dist-packages (from requests->scdl==1.6.12) (1.24.3)\n",
            "Requirement already satisfied: certifi>=2017.4.17 in /usr/local/lib/python3.7/dist-packages (from requests->scdl==1.6.12) (2021.5.30)\n",
            "Requirement already satisfied: idna<3,>=2.5 in /usr/local/lib/python3.7/dist-packages (from requests->scdl==1.6.12) (2.10)\n",
            "Collecting args\n",
            "  Downloading https://files.pythonhosted.org/packages/e5/1c/b701b3f4bd8d3667df8342f311b3efaeab86078a840fb826bd204118cc6b/args-0.1.0.tar.gz\n",
            "Building wheels for collected packages: scdl, clint, args\n",
            "  Building wheel for scdl (setup.py) ... \u001b[?25l\u001b[?25hdone\n",
            "  Created wheel for scdl: filename=scdl-1.6.12-cp37-none-any.whl size=19143 sha256=c1113c8e814cf478633db038b7a83f6427c4467bbb0b691564dc4d5ea39678f4\n",
            "  Stored in directory: /tmp/pip-ephem-wheel-cache-gp678l9q/wheels/49/44/6e/a5f6f709e7b231f3639ea9f9fc48a4699b958850715556e7f6\n",
            "  Building wheel for clint (setup.py) ... \u001b[?25l\u001b[?25hdone\n",
            "  Created wheel for clint: filename=clint-0.5.1-cp37-none-any.whl size=34472 sha256=8229e5a98ab7c8936964eb1ce185ec113eee23ca8dc1de667a4f824c8bac6583\n",
            "  Stored in directory: /root/.cache/pip/wheels/4f/e9/45/223565e5b1a4b09e12c6de6f8ba7c2c0e9127dec17cf830f83\n",
            "  Building wheel for args (setup.py) ... \u001b[?25l\u001b[?25hdone\n",
            "  Created wheel for args: filename=args-0.1.0-cp37-none-any.whl size=3320 sha256=12b02dfe241fd1b626f3422812280de2ab13c8438fb524e5018fe2e2ece1bc7f\n",
            "  Stored in directory: /root/.cache/pip/wheels/58/54/ea/d995d18af68c057eb76b87b02c92bc66ac34d360ef141780f4\n",
            "Successfully built scdl clint args\n",
            "Installing collected packages: mutagen, args, clint, scdl\n",
            "Successfully installed args-0.1.0 clint-0.5.1 mutagen-1.45.1 scdl-1.6.12\n",
            "\u001b[37mSoundcloud Downloader\u001b[0m\n",
            "\u001b[37mFound a playlist\u001b[0m\n",
            "\u001b[37mTrack n°1\u001b[0m\n",
            "\u001b[37mDownloading 1 - Milky Way\u001b[0m\n",
            "\u001b[37mSetting tags...\u001b[0m\n",
            "\u001b[37m1 - Milky Way.mp3 Downloaded.\n",
            "\u001b[0m\n",
            "\u001b[37mTrack n°2\u001b[0m\n",
            "\u001b[37mDownloading 2 - Mayd Hubb Meets Pilgrim - Yabby You :: Panda Meets Jamma Dim REMIX\u001b[0m\n",
            "\u001b[37mSetting tags...\u001b[0m\n",
            "\u001b[37m2 - Mayd Hubb Meets Pilgrim - Yabby You  Panda Meets Jamma Dim REMIX.mp3 Downloaded.\n",
            "\u001b[0m\n",
            "\u001b[37mTrack n°3\u001b[0m\n",
            "\u001b[37mDownloading 3 - Feeling Alive\u001b[0m\n",
            "\u001b[37mSetting tags...\u001b[0m\n",
            "\u001b[37m3 - Feeling Alive.mp3 Downloaded.\n",
            "\u001b[0m\n",
            "\u001b[37mTrack n°4\u001b[0m\n",
            "\u001b[37mDownloading 4 - Lost Reality\u001b[0m\n",
            "\u001b[37mSetting tags...\u001b[0m\n",
            "\u001b[37m4 - Lost Reality.mp3 Downloaded.\n",
            "\u001b[0m\n",
            "\u001b[37mTrack n°5\u001b[0m\n",
            "\u001b[37mDownloading 5 - Planet Pillow\u001b[0m\n",
            "\u001b[37mSetting tags...\u001b[0m\n",
            "\u001b[37m5 - Planet Pillow.mp3 Downloaded.\n",
            "\u001b[0m\n",
            "\u001b[37mTrack n°6\u001b[0m\n",
            "\u001b[37mRetrieving more info on the track\u001b[0m\n",
            "\u001b[37mDownloading 6 - Purple trip\u001b[0m\n",
            "\u001b[37mSetting tags...\u001b[0m\n",
            "\u001b[37m6 - Purple trip.mp3 Downloaded.\n",
            "\u001b[0m\n",
            "\u001b[37mTrack n°7\u001b[0m\n",
            "\u001b[37mRetrieving more info on the track\u001b[0m\n",
            "\u001b[37mDownloading 7 - Unknown Attack\u001b[0m\n",
            "\u001b[37mSetting tags...\u001b[0m\n",
            "\u001b[37m7 - Unknown Attack.mp3 Downloaded.\n",
            "\u001b[0m\n",
            "\u001b[37mTrack n°8\u001b[0m\n",
            "\u001b[37mRetrieving more info on the track\u001b[0m\n",
            "\u001b[37mDownloading 8 - Hate\u001b[0m\n",
            "\u001b[37mSetting tags...\u001b[0m\n",
            "\u001b[37m8 - Hate.mp3 Downloaded.\n",
            "\u001b[0m\n",
            "\u001b[37mTrack n°9\u001b[0m\n",
            "\u001b[37mRetrieving more info on the track\u001b[0m\n",
            "\u001b[37mDownloading 9 - Danse Macabre\u001b[0m\n",
            "\u001b[37mSetting tags...\u001b[0m\n",
            "\u001b[37m9 - Danse Macabre.mp3 Downloaded.\n",
            "\u001b[0m\n",
            "\u001b[37mTrack n°10\u001b[0m\n",
            "\u001b[37mRetrieving more info on the track\u001b[0m\n",
            "\u001b[37mDownloading 10 - Die Brücke\u001b[0m\n",
            "\u001b[37mSetting tags...\u001b[0m\n",
            "\u001b[37m10 - Die Brücke.mp3 Downloaded.\n",
            "\u001b[0m\n"
          ],
          "name": "stdout"
        }
      ]
    },
    {
      "cell_type": "code",
      "metadata": {
        "colab": {
          "base_uri": "https://localhost:8080/"
        },
        "id": "iLetPyW3bpbW",
        "outputId": "2dbf5e19-8f9d-404a-daf8-c192790e311f"
      },
      "source": [
        "%cd /content\n",
        "!mkdir 'radio-hamrah'\n",
        "%cd radio-hamrah\n",
        "!scdl -l https://soundcloud.com/razhavaniazha-com -a #--download-archive archive.txt -c\n"
      ],
      "execution_count": 2,
      "outputs": [
        {
          "output_type": "stream",
          "text": [
            "/content\n",
            "/content/radio-hamrah\n",
            "\u001b[37mSoundcloud Downloader\u001b[0m\n",
            "\u001b[37mFound a user profile\u001b[0m\n",
            "\u001b[37mRetrieving all tracks and reposts of user Razha va Niazha...\u001b[0m\n",
            "\u001b[37mRetrieved 4 tracks and reposts\u001b[0m\n",
            "\u001b[37mTracks and reposts n°1 of 4\u001b[0m\n",
            "\u001b[37mFound a track\u001b[0m\n",
            "\u001b[37mDownloading 13.April 2020 - دکتر هلاکویی , رازها و نیازها, صبح\u001b[0m\n",
            "\u001b[37mSetting tags...\u001b[0m\n",
            "\u001b[37m13.April 2020 - دکتر هلاکویی , رازها و نیازها, صبح.mp3 Downloaded.\n",
            "\u001b[0m\n",
            "\u001b[37mTracks and reposts n°2 of 4\u001b[0m\n",
            "\u001b[37mFound a track\u001b[0m\n",
            "\u001b[37mDownloading December 05, 2016 In Session with Dr. Farid Holakouee\u001b[0m\n",
            "\u001b[37mSetting tags...\u001b[0m\n",
            "\u001b[37mDecember 05, 2016 In Session with Dr. Farid Holakouee.mp3 Downloaded.\n",
            "\u001b[0m\n",
            "\u001b[37mTracks and reposts n°3 of 4\u001b[0m\n",
            "\u001b[37mFound a track\u001b[0m\n",
            "\u001b[37mDownloading December 07, 2016 In Session with Dr. Farid Holakouee\u001b[0m\n",
            "\u001b[37mSetting tags...\u001b[0m\n",
            "\u001b[37mDecember 07, 2016 In Session with Dr. Farid Holakouee.mp3 Downloaded.\n",
            "\u001b[0m\n",
            "\u001b[37mTracks and reposts n°4 of 4\u001b[0m\n",
            "\u001b[31mFailed to get item...\u001b[0m\n",
            "\u001b[37mDownloaded all 4 tracks and reposts of user Razha va Niazha!\u001b[0m\n"
          ],
          "name": "stdout"
        }
      ]
    },
    {
      "cell_type": "code",
      "metadata": {
        "colab": {
          "base_uri": "https://localhost:8080/"
        },
        "id": "PFPZ-5KecIZ2",
        "outputId": "c542db51-ab3e-4529-baf4-2d5d906df1f6"
      },
      "source": [
        "!scdl -l https://soundcloud.com/razhavaniazha-com/sets --download-archive archive.txt -c -a\n"
      ],
      "execution_count": 3,
      "outputs": [
        {
          "output_type": "stream",
          "text": [
            "\u001b[37mSoundcloud Downloader\u001b[0m\n",
            "\u001b[37mFound a user profile\u001b[0m\n",
            "\u001b[37mRetrieving all tracks and reposts of user Razha va Niazha...\u001b[0m\n",
            "\u001b[37mRetrieved 4 tracks and reposts\u001b[0m\n",
            "\u001b[37mTracks and reposts n°1 of 4\u001b[0m\n",
            "\u001b[37mFound a track\u001b[0m\n",
            "\u001b[37mDownloading 13.April 2020 - دکتر هلاکویی , رازها و نیازها, صبح\u001b[0m\n",
            "\u001b[37mTrack \"13.April 2020 - دکتر هلاکویی , رازها و نیازها, صبح\" already downloaded.\u001b[0m\n",
            "\u001b[37mTracks and reposts n°2 of 4\u001b[0m\n",
            "\u001b[37mFound a track\u001b[0m\n",
            "\u001b[37mDownloading December 05, 2016 In Session with Dr. Farid Holakouee\u001b[0m\n",
            "\u001b[37mTrack \"December 05, 2016 In Session with Dr. Farid Holakouee\" already downloaded.\u001b[0m\n",
            "\u001b[37mTracks and reposts n°3 of 4\u001b[0m\n",
            "\u001b[37mFound a track\u001b[0m\n",
            "\u001b[37mDownloading December 07, 2016 In Session with Dr. Farid Holakouee\u001b[0m\n",
            "\u001b[37mTrack \"December 07, 2016 In Session with Dr. Farid Holakouee\" already downloaded.\u001b[0m\n",
            "\u001b[37mTracks and reposts n°4 of 4\u001b[0m\n",
            "\u001b[31mFailed to get item...\u001b[0m\n",
            "\u001b[37mDownloaded all 4 tracks and reposts of user Razha va Niazha!\u001b[0m\n"
          ],
          "name": "stdout"
        }
      ]
    },
    {
      "cell_type": "markdown",
      "metadata": {
        "id": "_JL365fqYLhm"
      },
      "source": [
        "#Trying for downloading the soundcloud music files by some python module\n",
        "\n",
        "##2- Second try by **[SoundCloud][1]** python module, as you can see below:\n",
        "\n",
        "[![enter image description here][2]][2]\n",
        "\n",
        "\n",
        "  [1]: https://github.com/yackx/SoundCloud\n",
        "  [2]: https://i.stack.imgur.com/lzmtu.png"
      ]
    },
    {
      "cell_type": "code",
      "metadata": {
        "colab": {
          "base_uri": "https://localhost:8080/"
        },
        "id": "3GmqPCJxZIKs",
        "outputId": "81f7efdb-21dc-45a1-ae6a-3986ad7355b0"
      },
      "source": [
        "%cd /content\n",
        "!git clone https://github.com/yackx/SoundCloud.git\n",
        "%cd SoundCloud\n",
        "!python download.py --id my_id --track https://soundcloud.com/dj-crontab/indiscriminate-killers\n"
      ],
      "execution_count": 4,
      "outputs": [
        {
          "output_type": "stream",
          "text": [
            "/content\n",
            "Cloning into 'SoundCloud'...\n",
            "remote: Enumerating objects: 88, done.\u001b[K\n",
            "remote: Total 88 (delta 0), reused 0 (delta 0), pack-reused 88\u001b[K\n",
            "Unpacking objects: 100% (88/88), done.\n",
            "/content/SoundCloud\n",
            "  File \"download.py\", line 21\n",
            "    print \"Downloaded: %d, Skipped: %d, Errors: %d\" % (\n",
            "                                                  ^\n",
            "SyntaxError: invalid syntax\n"
          ],
          "name": "stdout"
        }
      ]
    },
    {
      "cell_type": "markdown",
      "metadata": {
        "id": "-UCrI08GguRE"
      },
      "source": [
        "# uplaoding MP3 files to telegram Group:\n"
      ]
    },
    {
      "cell_type": "markdown",
      "metadata": {
        "id": "jFFlo4YjjhDd"
      },
      "source": [
        "##if you want to send the file with pure requests lib, you can use following snippet:\n",
        "[![enter image description here][1]][1]\n",
        "\n",
        "\n",
        "  [1]: https://i.stack.imgur.com/NZNJD.png"
      ]
    },
    {
      "cell_type": "code",
      "metadata": {
        "id": "zErP64CVjtcp"
      },
      "source": [
        "import requests\n",
        "with open('tests/test.mp3', 'rb') as audio:\n",
        "    payload = {\n",
        "        'chat_id': TELEGRAM_CHAT_ID,\n",
        "        'title': 'file.mp3'\n",
        "        'parse_mode': 'HTML'\n",
        "    }\n",
        "    files = {\n",
        "        'audio': audio.read(),\n",
        "    }\n",
        "    resp = requests.post(\n",
        "        \"https://api.telegram.org/bot{token}/sendAudio\".format(token=TELEGRAM_TOKEN),\n",
        "        data=payload,\n",
        "        files=files).json()"
      ],
      "execution_count": null,
      "outputs": []
    },
    {
      "cell_type": "markdown",
      "metadata": {
        "id": "Q8z7akjwjNN8"
      },
      "source": [
        "## Uplaoding to telegram chaneel by  [`pip install telegram-upload`](https://pypi.org/project/telegram-upload/)\n",
        "[![enter image description here][1]][1]\n",
        "\n",
        "\n",
        "  [1]: https://i.stack.imgur.com/6LXHs.png\n",
        "\n"
      ]
    },
    {
      "cell_type": "code",
      "metadata": {
        "id": "sr3pxSpZg0Tq"
      },
      "source": [
        "!pip3 install -U telegram-upload"
      ],
      "execution_count": null,
      "outputs": []
    },
    {
      "cell_type": "code",
      "metadata": {
        "id": "gBmJGA9Mh1WF"
      },
      "source": [
        "!telegram-upload file1.mp4 /path/to/file2.mkv"
      ],
      "execution_count": null,
      "outputs": []
    },
    {
      "cell_type": "markdown",
      "metadata": {
        "id": "m2_9LTDRioeE"
      },
      "source": [
        "#Uplaoding to telegram chaneel by  [`pip install telegram-cloud`](https://pypi.org/project/telegram-cloud/)\n",
        "[![enter image description here][1]][1]\n",
        "\n",
        "\n",
        "  [1]: https://i.stack.imgur.com/pe3K2.png\n",
        "\n"
      ]
    },
    {
      "cell_type": "code",
      "metadata": {
        "id": "f3VmSJU3ip7W"
      },
      "source": [
        "!pip install telegram-cloud"
      ],
      "execution_count": null,
      "outputs": []
    }
  ]
}