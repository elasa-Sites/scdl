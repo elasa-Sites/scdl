{
  "nbformat": 4,
  "nbformat_minor": 0,
  "metadata": {
    "colab": {
      "name": "Copy of COLAB_stock_prediction (1).ipynb",
      "provenance": [],
      "collapsed_sections": [],
      "toc_visible": true,
      "history_visible": true,
      "include_colab_link": true
    },
    "kernelspec": {
      "display_name": "Python 3",
      "name": "python3"
    },
    "language_info": {
      "codemirror_mode": {
        "name": "ipython",
        "version": 3
      },
      "file_extension": ".py",
      "mimetype": "text/x-python",
      "name": "python",
      "nbconvert_exporter": "python",
      "pygments_lexer": "ipython3",
      "version": "3.6.1"
    }
  },
  "cells": [
    {
      "cell_type": "markdown",
      "metadata": {
        "id": "view-in-github",
        "colab_type": "text"
      },
      "source": [
        "<a href=\"https://colab.research.google.com/github/elasa-Sites/scdl/blob/master/Souncloud_scraper.ipynb\" target=\"_parent\"><img src=\"https://colab.research.google.com/assets/colab-badge.svg\" alt=\"Open In Colab\"/></a>"
      ]
    },
    {
      "cell_type": "markdown",
      "metadata": {
        "id": "XH3lVg7BYKRM"
      },
      "source": [
        "#Trying for downloading the soundcloud music files by some python module\n",
        "\n",
        "##1- first try by **[scdl][1]** python module, as you can see below:\n",
        "\n",
        "[![enter image description here][2]][2]\n",
        "\n",
        "\n",
        "  [1]: https://github.com/flyingrub/scdl\n",
        "  [2]: https://i.stack.imgur.com/gdI8p.png"
      ]
    },
    {
      "cell_type": "code",
      "metadata": {
        "id": "U2FTAwwQYJqe",
        "colab": {
          "base_uri": "https://localhost:8080/"
        },
        "outputId": "dedd4633-0dd8-4eb1-9b64-69b5eb82bb1b"
      },
      "source": [
        "!pip3 install git+https://github.com/flyingrub/scdl\n",
        "!scdl -l https://soundcloud.com/pandadub/sets/the-lost-ship --download-archive archive.txt -c"
      ],
      "execution_count": 1,
      "outputs": [
        {
          "output_type": "stream",
          "text": [
            "Collecting git+https://github.com/flyingrub/scdl\n",
            "  Cloning https://github.com/flyingrub/scdl to /tmp/pip-req-build-_j956w2l\n",
            "  Running command git clone -q https://github.com/flyingrub/scdl /tmp/pip-req-build-_j956w2l\n",
            "Requirement already satisfied: docopt in /usr/local/lib/python3.7/dist-packages (from scdl==1.6.12) (0.6.2)\n",
            "Collecting mutagen\n",
            "\u001b[?25l  Downloading https://files.pythonhosted.org/packages/16/b3/f7aa8edf2ff4495116f95fd442b2a346aa55d1d46313143c8814886dbcdb/mutagen-1.45.1-py3-none-any.whl (218kB)\n",
            "\u001b[K     |████████████████████████████████| 225kB 3.8MB/s \n",
            "\u001b[?25hRequirement already satisfied: termcolor in /usr/local/lib/python3.7/dist-packages (from scdl==1.6.12) (1.1.0)\n",
            "Requirement already satisfied: requests in /usr/local/lib/python3.7/dist-packages (from scdl==1.6.12) (2.23.0)\n",
            "Collecting clint\n",
            "  Downloading https://files.pythonhosted.org/packages/3d/b4/41ecb1516f1ba728f39ee7062b9dac1352d39823f513bb6f9e8aeb86e26d/clint-0.5.1.tar.gz\n",
            "Requirement already satisfied: chardet<4,>=3.0.2 in /usr/local/lib/python3.7/dist-packages (from requests->scdl==1.6.12) (3.0.4)\n",
            "Requirement already satisfied: certifi>=2017.4.17 in /usr/local/lib/python3.7/dist-packages (from requests->scdl==1.6.12) (2021.5.30)\n",
            "Requirement already satisfied: idna<3,>=2.5 in /usr/local/lib/python3.7/dist-packages (from requests->scdl==1.6.12) (2.10)\n",
            "Requirement already satisfied: urllib3!=1.25.0,!=1.25.1,<1.26,>=1.21.1 in /usr/local/lib/python3.7/dist-packages (from requests->scdl==1.6.12) (1.24.3)\n",
            "Collecting args\n",
            "  Downloading https://files.pythonhosted.org/packages/e5/1c/b701b3f4bd8d3667df8342f311b3efaeab86078a840fb826bd204118cc6b/args-0.1.0.tar.gz\n",
            "Building wheels for collected packages: scdl, clint, args\n",
            "  Building wheel for scdl (setup.py) ... \u001b[?25l\u001b[?25hdone\n",
            "  Created wheel for scdl: filename=scdl-1.6.12-cp37-none-any.whl size=19143 sha256=abd70335ed9092e3414d3e9a9f6ff8821c258419cc3df8bff3d42b8df3a02fb2\n",
            "  Stored in directory: /tmp/pip-ephem-wheel-cache-7ub71jpv/wheels/49/44/6e/a5f6f709e7b231f3639ea9f9fc48a4699b958850715556e7f6\n",
            "  Building wheel for clint (setup.py) ... \u001b[?25l\u001b[?25hdone\n",
            "  Created wheel for clint: filename=clint-0.5.1-cp37-none-any.whl size=34472 sha256=cf94bd67d6f20319c11156b07357dac9b365a3ea66584b7a8febe4d62f41095a\n",
            "  Stored in directory: /root/.cache/pip/wheels/4f/e9/45/223565e5b1a4b09e12c6de6f8ba7c2c0e9127dec17cf830f83\n",
            "  Building wheel for args (setup.py) ... \u001b[?25l\u001b[?25hdone\n",
            "  Created wheel for args: filename=args-0.1.0-cp37-none-any.whl size=3320 sha256=b73874186d6f96c9ecedc829522069476bc37995a0e10d35f76e1aa8ea46403e\n",
            "  Stored in directory: /root/.cache/pip/wheels/58/54/ea/d995d18af68c057eb76b87b02c92bc66ac34d360ef141780f4\n",
            "Successfully built scdl clint args\n",
            "Installing collected packages: mutagen, args, clint, scdl\n",
            "Successfully installed args-0.1.0 clint-0.5.1 mutagen-1.45.1 scdl-1.6.12\n",
            "\u001b[37mSoundcloud Downloader\u001b[0m\n",
            "\u001b[37mFound a playlist\u001b[0m\n",
            "\u001b[37mTrack n°1\u001b[0m\n",
            "\u001b[37mDownloading 1 - Milky Way\u001b[0m\n",
            "\u001b[37mSetting tags...\u001b[0m\n",
            "\u001b[37m1 - Milky Way.mp3 Downloaded.\n",
            "\u001b[0m\n",
            "\u001b[37mTrack n°2\u001b[0m\n",
            "\u001b[37mDownloading 2 - Mayd Hubb Meets Pilgrim - Yabby You :: Panda Meets Jamma Dim REMIX\u001b[0m\n",
            "\u001b[37mSetting tags...\u001b[0m\n",
            "\u001b[37m2 - Mayd Hubb Meets Pilgrim - Yabby You  Panda Meets Jamma Dim REMIX.mp3 Downloaded.\n",
            "\u001b[0m\n",
            "\u001b[37mTrack n°3\u001b[0m\n",
            "\u001b[37mDownloading 3 - Feeling Alive\u001b[0m\n",
            "\u001b[37mSetting tags...\u001b[0m\n",
            "\u001b[37m3 - Feeling Alive.mp3 Downloaded.\n",
            "\u001b[0m\n",
            "\u001b[37mTrack n°4\u001b[0m\n",
            "\u001b[37mDownloading 4 - Lost Reality\u001b[0m\n",
            "\u001b[37mSetting tags...\u001b[0m\n",
            "\u001b[37m4 - Lost Reality.mp3 Downloaded.\n",
            "\u001b[0m\n",
            "\u001b[37mTrack n°5\u001b[0m\n",
            "\u001b[37mDownloading 5 - Planet Pillow\u001b[0m\n",
            "\u001b[37mSetting tags...\u001b[0m\n",
            "\u001b[37m5 - Planet Pillow.mp3 Downloaded.\n",
            "\u001b[0m\n",
            "\u001b[37mTrack n°6\u001b[0m\n",
            "\u001b[37mRetrieving more info on the track\u001b[0m\n",
            "\u001b[37mDownloading 6 - Purple trip\u001b[0m\n",
            "\u001b[37mSetting tags...\u001b[0m\n",
            "\u001b[37m6 - Purple trip.mp3 Downloaded.\n",
            "\u001b[0m\n",
            "\u001b[37mTrack n°7\u001b[0m\n",
            "\u001b[37mRetrieving more info on the track\u001b[0m\n",
            "\u001b[37mDownloading 7 - Unknown Attack\u001b[0m\n",
            "\u001b[37mSetting tags...\u001b[0m\n",
            "\u001b[37m7 - Unknown Attack.mp3 Downloaded.\n",
            "\u001b[0m\n",
            "\u001b[37mTrack n°8\u001b[0m\n",
            "\u001b[37mRetrieving more info on the track\u001b[0m\n",
            "\u001b[37mDownloading 8 - Hate\u001b[0m\n",
            "\u001b[37mSetting tags...\u001b[0m\n",
            "\u001b[37m8 - Hate.mp3 Downloaded.\n",
            "\u001b[0m\n",
            "\u001b[37mTrack n°9\u001b[0m\n",
            "\u001b[37mRetrieving more info on the track\u001b[0m\n",
            "\u001b[37mDownloading 9 - Danse Macabre\u001b[0m\n",
            "\u001b[37mSetting tags...\u001b[0m\n",
            "\u001b[37m9 - Danse Macabre.mp3 Downloaded.\n",
            "\u001b[0m\n",
            "\u001b[37mTrack n°10\u001b[0m\n",
            "\u001b[37mRetrieving more info on the track\u001b[0m\n",
            "\u001b[37mDownloading 10 - Die Brücke\u001b[0m\n",
            "\u001b[37mSetting tags...\u001b[0m\n",
            "\u001b[37m10 - Die Brücke.mp3 Downloaded.\n",
            "\u001b[0m\n"
          ],
          "name": "stdout"
        }
      ]
    },
    {
      "cell_type": "markdown",
      "metadata": {
        "id": "_JL365fqYLhm"
      },
      "source": [
        "#Trying for downloading the soundcloud music files by some python module\n",
        "\n",
        "##2- Second try by **[SoundCloud][1]** python module, as you can see below:\n",
        "\n",
        "[![enter image description here][2]][2]\n",
        "\n",
        "\n",
        "  [1]: https://github.com/yackx/SoundCloud\n",
        "  [2]: https://i.stack.imgur.com/lzmtu.png"
      ]
    },
    {
      "cell_type": "code",
      "metadata": {
        "id": "3GmqPCJxZIKs",
        "outputId": "d9ffd64a-8a4a-4131-a534-4cc48757b1b9",
        "colab": {
          "base_uri": "https://localhost:8080/"
        }
      },
      "source": [
        "%cd /content\n",
        "!git clone https://github.com/yackx/SoundCloud.git\n",
        "%cd SoundCloud\n",
        "!python download.py --id my_id --track https://soundcloud.com/dj-crontab/indiscriminate-killers\n"
      ],
      "execution_count": 2,
      "outputs": [
        {
          "output_type": "stream",
          "text": [
            "/content\n",
            "Cloning into 'SoundCloud'...\n",
            "remote: Enumerating objects: 88, done.\u001b[K\n",
            "remote: Total 88 (delta 0), reused 0 (delta 0), pack-reused 88\u001b[K\n",
            "Unpacking objects: 100% (88/88), done.\n",
            "/content/SoundCloud\n",
            "  File \"download.py\", line 21\n",
            "    print \"Downloaded: %d, Skipped: %d, Errors: %d\" % (\n",
            "                                                  ^\n",
            "SyntaxError: invalid syntax\n"
          ],
          "name": "stdout"
        }
      ]
    }
  ]
}