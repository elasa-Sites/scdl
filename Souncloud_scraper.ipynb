{
  "nbformat": 4,
  "nbformat_minor": 0,
  "metadata": {
    "colab": {
      "name": "Copy of COLAB_stock_prediction (1).ipynb",
      "provenance": [],
      "collapsed_sections": [],
      "include_colab_link": true
    },
    "kernelspec": {
      "display_name": "Python 3",
      "name": "python3"
    },
    "language_info": {
      "codemirror_mode": {
        "name": "ipython",
        "version": 3
      },
      "file_extension": ".py",
      "mimetype": "text/x-python",
      "name": "python",
      "nbconvert_exporter": "python",
      "pygments_lexer": "ipython3",
      "version": "3.6.1"
    }
  },
  "cells": [
    {
      "cell_type": "markdown",
      "metadata": {
        "id": "view-in-github",
        "colab_type": "text"
      },
      "source": [
        "<a href=\"https://colab.research.google.com/github/elasa-Sites/scdl/blob/master/Souncloud_scraper.ipynb\" target=\"_parent\"><img src=\"https://colab.research.google.com/assets/colab-badge.svg\" alt=\"Open In Colab\"/></a>"
      ]
    },
    {
      "cell_type": "markdown",
      "metadata": {
        "id": "XH3lVg7BYKRM"
      },
      "source": [
        "#Trying for downloading the soundcloud music files by some python module\n",
        "\n",
        "##1- first try by **[scdl][1]** python module, as you can see below:\n",
        "\n",
        "[![enter image description here][2]][2]\n",
        "\n",
        "\n",
        "  [1]: https://github.com/flyingrub/scdl\n",
        "  [2]: https://i.stack.imgur.com/gdI8p.png"
      ]
    },
    {
      "cell_type": "code",
      "metadata": {
        "id": "U2FTAwwQYJqe",
        "colab": {
          "base_uri": "https://localhost:8080/"
        },
        "outputId": "6712a924-046d-4e58-e0f4-db93467bcfd9"
      },
      "source": [
        "!pip3 install git+https://github.com/flyingrub/scdl\n",
        "!scdl -l https://soundcloud.com/pandadub/sets/the-lost-ship --download-archive archive.txt -c"
      ],
      "execution_count": 24,
      "outputs": [
        {
          "output_type": "stream",
          "text": [
            "Collecting git+https://github.com/flyingrub/scdl\n",
            "  Cloning https://github.com/flyingrub/scdl to /tmp/pip-req-build-feeajoo4\n",
            "  Running command git clone -q https://github.com/flyingrub/scdl /tmp/pip-req-build-feeajoo4\n",
            "Requirement already satisfied (use --upgrade to upgrade): scdl==1.6.12 from git+https://github.com/flyingrub/scdl in /usr/local/lib/python3.7/dist-packages\n",
            "Requirement already satisfied: docopt in /usr/local/lib/python3.7/dist-packages (from scdl==1.6.12) (0.6.2)\n",
            "Requirement already satisfied: mutagen in /usr/local/lib/python3.7/dist-packages (from scdl==1.6.12) (1.45.1)\n",
            "Requirement already satisfied: termcolor in /usr/local/lib/python3.7/dist-packages (from scdl==1.6.12) (1.1.0)\n",
            "Requirement already satisfied: requests in /usr/local/lib/python3.7/dist-packages (from scdl==1.6.12) (2.23.0)\n",
            "Requirement already satisfied: clint in /usr/local/lib/python3.7/dist-packages (from scdl==1.6.12) (0.5.1)\n",
            "Requirement already satisfied: urllib3!=1.25.0,!=1.25.1,<1.26,>=1.21.1 in /usr/local/lib/python3.7/dist-packages (from requests->scdl==1.6.12) (1.24.3)\n",
            "Requirement already satisfied: idna<3,>=2.5 in /usr/local/lib/python3.7/dist-packages (from requests->scdl==1.6.12) (2.10)\n",
            "Requirement already satisfied: chardet<4,>=3.0.2 in /usr/local/lib/python3.7/dist-packages (from requests->scdl==1.6.12) (3.0.4)\n",
            "Requirement already satisfied: certifi>=2017.4.17 in /usr/local/lib/python3.7/dist-packages (from requests->scdl==1.6.12) (2021.5.30)\n",
            "Requirement already satisfied: args in /usr/local/lib/python3.7/dist-packages (from clint->scdl==1.6.12) (0.1.0)\n",
            "Building wheels for collected packages: scdl\n",
            "  Building wheel for scdl (setup.py) ... \u001b[?25l\u001b[?25hdone\n",
            "  Created wheel for scdl: filename=scdl-1.6.12-cp37-none-any.whl size=19143 sha256=52465fb705874a70f4d22db6b48932f9025a148f00b4b2350e93b4dc6b125a12\n",
            "  Stored in directory: /tmp/pip-ephem-wheel-cache-9rgpjh6d/wheels/49/44/6e/a5f6f709e7b231f3639ea9f9fc48a4699b958850715556e7f6\n",
            "Successfully built scdl\n",
            "\u001b[37mSoundcloud Downloader\u001b[0m\n",
            "\u001b[37mFound a playlist\u001b[0m\n",
            "\u001b[37mTrack n°1\u001b[0m\n",
            "\u001b[37mDownloading 1 - Milky Way\u001b[0m\n",
            "\u001b[37mSetting tags...\u001b[0m\n",
            "\u001b[37m1 - Milky Way.mp3 Downloaded.\n",
            "\u001b[0m\n",
            "\u001b[37mTrack n°2\u001b[0m\n",
            "\u001b[37mDownloading 2 - Mayd Hubb Meets Pilgrim - Yabby You :: Panda Meets Jamma Dim REMIX\u001b[0m\n",
            "\u001b[37mSetting tags...\u001b[0m\n",
            "\u001b[37m2 - Mayd Hubb Meets Pilgrim - Yabby You  Panda Meets Jamma Dim REMIX.mp3 Downloaded.\n",
            "\u001b[0m\n",
            "\u001b[37mTrack n°3\u001b[0m\n",
            "\u001b[37mDownloading 3 - Feeling Alive\u001b[0m\n",
            "\u001b[37mSetting tags...\u001b[0m\n",
            "\u001b[37m3 - Feeling Alive.mp3 Downloaded.\n",
            "\u001b[0m\n",
            "\u001b[37mTrack n°4\u001b[0m\n",
            "\u001b[37mDownloading 4 - Lost Reality\u001b[0m\n",
            "\u001b[37mSetting tags...\u001b[0m\n",
            "\u001b[37m4 - Lost Reality.mp3 Downloaded.\n",
            "\u001b[0m\n",
            "\u001b[37mTrack n°5\u001b[0m\n",
            "\u001b[37mDownloading 5 - Planet Pillow\u001b[0m\n",
            "\u001b[37mSetting tags...\u001b[0m\n",
            "\u001b[37m5 - Planet Pillow.mp3 Downloaded.\n",
            "\u001b[0m\n",
            "\u001b[37mTrack n°6\u001b[0m\n",
            "\u001b[37mRetrieving more info on the track\u001b[0m\n",
            "\u001b[37mDownloading 6 - Purple trip\u001b[0m\n",
            "\u001b[37mSetting tags...\u001b[0m\n",
            "\u001b[37m6 - Purple trip.mp3 Downloaded.\n",
            "\u001b[0m\n",
            "\u001b[37mTrack n°7\u001b[0m\n",
            "\u001b[37mRetrieving more info on the track\u001b[0m\n",
            "\u001b[37mDownloading 7 - Unknown Attack\u001b[0m\n",
            "\u001b[37mSetting tags...\u001b[0m\n",
            "\u001b[37m7 - Unknown Attack.mp3 Downloaded.\n",
            "\u001b[0m\n",
            "\u001b[37mTrack n°8\u001b[0m\n",
            "\u001b[37mRetrieving more info on the track\u001b[0m\n",
            "\u001b[37mDownloading 8 - Hate\u001b[0m\n",
            "\u001b[37mSetting tags...\u001b[0m\n",
            "\u001b[37m8 - Hate.mp3 Downloaded.\n",
            "\u001b[0m\n",
            "\u001b[37mTrack n°9\u001b[0m\n",
            "\u001b[37mRetrieving more info on the track\u001b[0m\n",
            "\u001b[37mDownloading 9 - Danse Macabre\u001b[0m\n",
            "\u001b[37mSetting tags...\u001b[0m\n",
            "\u001b[37m9 - Danse Macabre.mp3 Downloaded.\n",
            "\u001b[0m\n",
            "\u001b[37mTrack n°10\u001b[0m\n",
            "\u001b[37mRetrieving more info on the track\u001b[0m\n",
            "\u001b[37mDownloading 10 - Die Brücke\u001b[0m\n",
            "\u001b[37mSetting tags...\u001b[0m\n",
            "\u001b[37m10 - Die Brücke.mp3 Downloaded.\n",
            "\u001b[0m\n"
          ],
          "name": "stdout"
        }
      ]
    },
    {
      "cell_type": "code",
      "metadata": {
        "colab": {
          "base_uri": "https://localhost:8080/"
        },
        "id": "iLetPyW3bpbW",
        "outputId": "1582065c-772a-40f4-9f2c-a9a632b38c91"
      },
      "source": [
        "%cd /content\n",
        "!mkdir 'radio-hamrah'\n",
        "%cd radio-hamrah\n",
        "!scdl -l https://soundcloud.com/razhavaniazha-com -a -c  #--download-archive archive.txt -c\n"
      ],
      "execution_count": 34,
      "outputs": [
        {
          "output_type": "stream",
          "text": [
            "/content\n",
            "mkdir: cannot create directory ‘radio-hamrah’: File exists\n",
            "/content/radio-hamrah\n",
            "Usage:\n",
            "    scdl -l <track_url> [-a | -f | -C | -t | -p][-c | --force-metadata][-n <maxtracks>][-o <offset>][--hidewarnings][--debug | --error][--path <path>][--addtofile][--addtimestamp]\n",
            "[--onlymp3][--hide-progress][--min-size <size>][--max-size <size>][--remove][--no-album-tag]\n",
            "[--no-playlist-folder][--download-archive <file>][--extract-artist][--flac]\n",
            "    scdl me (-s | -a | -f | -t | -p | -m)[-c | --force-metadata][-n <maxtracks>][-o <offset>][--hidewarnings][--debug | --error][--path <path>][--addtofile][--addtimestamp]\n",
            "[--onlymp3][--hide-progress][--min-size <size>][--max-size <size>][--remove]\n",
            "[--no-playlist-folder][--download-archive <file>][--extract-artist][--flac][--no-album-tag]\n",
            "    scdl -h | --help\n",
            "    scdl --version\n"
          ],
          "name": "stdout"
        }
      ]
    },
    {
      "cell_type": "code",
      "metadata": {
        "colab": {
          "base_uri": "https://localhost:8080/"
        },
        "id": "PFPZ-5KecIZ2",
        "outputId": "d5483cc2-cef9-4cc1-bd9b-fd4ac4dc2983"
      },
      "source": [
        "!scdl -l https://soundcloud.com/razhavaniazha-com/sets --download-archive archive.txt -c -a\n"
      ],
      "execution_count": 31,
      "outputs": [
        {
          "output_type": "stream",
          "text": [
            "\u001b[37mSoundcloud Downloader\u001b[0m\n",
            "\u001b[31mError resolving url, retrying...\u001b[0m\n",
            "\u001b[31mFailed to get item...\u001b[0m\n"
          ],
          "name": "stdout"
        }
      ]
    },
    {
      "cell_type": "markdown",
      "metadata": {
        "id": "_JL365fqYLhm"
      },
      "source": [
        "#Trying for downloading the soundcloud music files by some python module\n",
        "\n",
        "##2- Second try by **[SoundCloud][1]** python module, as you can see below:\n",
        "\n",
        "[![enter image description here][2]][2]\n",
        "\n",
        "\n",
        "  [1]: https://github.com/yackx/SoundCloud\n",
        "  [2]: https://i.stack.imgur.com/lzmtu.png"
      ]
    },
    {
      "cell_type": "code",
      "metadata": {
        "colab": {
          "base_uri": "https://localhost:8080/"
        },
        "id": "3GmqPCJxZIKs",
        "outputId": "69d64ed4-e5a3-415a-8db3-c87ea55f6619"
      },
      "source": [
        "%cd /content\n",
        "!git clone https://github.com/yackx/SoundCloud.git\n",
        "%cd SoundCloud\n",
        "!python download.py --id e6PnoBAyFVAG788KrTcgqLF0nv4ZaAtQ --track https://soundcloud.com/dj-crontab/indiscriminate-killers\n"
      ],
      "execution_count": 23,
      "outputs": [
        {
          "output_type": "stream",
          "text": [
            "/content\n",
            "fatal: destination path 'SoundCloud' already exists and is not an empty directory.\n",
            "/content/SoundCloud\n",
            "  File \"download.py\", line 54\n",
            "    except urllib2.HTTPError, err:\n",
            "                            ^\n",
            "SyntaxError: invalid syntax\n"
          ],
          "name": "stdout"
        }
      ]
    },
    {
      "cell_type": "code",
      "metadata": {
        "id": "jJ6--Kl3cLIZ"
      },
      "source": [
        "!pip install soundcloud\n",
        "!python download.py --id my_id --playlist https://soundcloud.com/its-me/sets/my-list/sharecode"
      ],
      "execution_count": null,
      "outputs": []
    },
    {
      "cell_type": "code",
      "metadata": {
        "colab": {
          "base_uri": "https://localhost:8080/"
        },
        "id": "FfhIn2i4dcYa",
        "outputId": "dcca02da-87d6-4adb-eeb3-90e581a0fb1e"
      },
      "source": [
        "!pip install soundcloud"
      ],
      "execution_count": 28,
      "outputs": [
        {
          "output_type": "stream",
          "text": [
            "Collecting soundcloud\n",
            "  Downloading https://files.pythonhosted.org/packages/17/b5/fb20e83bae6dfbebb6f36e566111d2e8eb39ad068ddb93b4f04bb42a2b57/soundcloud-0.5.0.tar.gz\n",
            "Collecting fudge>=1.0.3\n",
            "\u001b[?25l  Downloading https://files.pythonhosted.org/packages/65/71/f44731d536a9b146c5d9a4eb9d3bacd8aae7dbb3597382f3f9bd3d015577/fudge-1.1.1.tar.gz (87kB)\n",
            "\u001b[K     |████████████████████████████████| 92kB 5.1MB/s \n",
            "\u001b[?25hRequirement already satisfied: requests>=0.14.0 in /usr/local/lib/python3.7/dist-packages (from soundcloud) (2.23.0)\n",
            "Collecting simplejson>=2.0\n",
            "\u001b[?25l  Downloading https://files.pythonhosted.org/packages/34/f4/9473611e019962edbdc35b69f60363e605f21750c4b75d148560d1c63db0/simplejson-3.17.3-cp37-cp37m-manylinux_2_5_x86_64.manylinux1_x86_64.manylinux_2_12_x86_64.manylinux2010_x86_64.whl (129kB)\n",
            "\u001b[K     |████████████████████████████████| 133kB 17.8MB/s \n",
            "\u001b[?25hRequirement already satisfied: urllib3!=1.25.0,!=1.25.1,<1.26,>=1.21.1 in /usr/local/lib/python3.7/dist-packages (from requests>=0.14.0->soundcloud) (1.24.3)\n",
            "Requirement already satisfied: certifi>=2017.4.17 in /usr/local/lib/python3.7/dist-packages (from requests>=0.14.0->soundcloud) (2021.5.30)\n",
            "Requirement already satisfied: chardet<4,>=3.0.2 in /usr/local/lib/python3.7/dist-packages (from requests>=0.14.0->soundcloud) (3.0.4)\n",
            "Requirement already satisfied: idna<3,>=2.5 in /usr/local/lib/python3.7/dist-packages (from requests>=0.14.0->soundcloud) (2.10)\n",
            "Building wheels for collected packages: soundcloud, fudge\n",
            "  Building wheel for soundcloud (setup.py) ... \u001b[?25l\u001b[?25hdone\n",
            "  Created wheel for soundcloud: filename=soundcloud-0.5.0-cp37-none-any.whl size=12557 sha256=e02464bb28742f8f744cf0d5628a1628e221df3ac899d441932e40bbc695359a\n",
            "  Stored in directory: /root/.cache/pip/wheels/6b/a5/de/fea1762c309717f986652ef62a0e707d302bdcf8137d7ba72d\n",
            "  Building wheel for fudge (setup.py) ... \u001b[?25l\u001b[?25hdone\n",
            "  Created wheel for fudge: filename=fudge-1.1.1-cp37-none-any.whl size=33922 sha256=6d4240b69107e61fc770d3075e1bbc4e37020d56924491b041e7db8ecbe4a1db\n",
            "  Stored in directory: /root/.cache/pip/wheels/36/c8/c1/587018b4a2e09736369e20f1c58736f6bbb7472167e756fceb\n",
            "Successfully built soundcloud fudge\n",
            "Installing collected packages: fudge, simplejson, soundcloud\n",
            "Successfully installed fudge-1.1.1 simplejson-3.17.3 soundcloud-0.5.0\n"
          ],
          "name": "stdout"
        }
      ]
    },
    {
      "cell_type": "code",
      "metadata": {
        "colab": {
          "base_uri": "https://localhost:8080/",
          "height": 387
        },
        "id": "9Jem5WIxdh1s",
        "outputId": "d6baeadb-b049-4f37-8fbd-c66218df5f5e"
      },
      "source": [
        "import soundcloud\n",
        "\n",
        "client = soundcloud.Client(client_id='e6PnoBAyFVAG788KrTcgqLF0nv4ZaAtQ')\n",
        "track = client.get('/tracks/30709985')\n",
        "print (track.title)"
      ],
      "execution_count": 37,
      "outputs": [
        {
          "output_type": "error",
          "ename": "HTTPError",
          "evalue": "ignored",
          "traceback": [
            "\u001b[0;31m---------------------------------------------------------------------------\u001b[0m",
            "\u001b[0;31mHTTPError\u001b[0m                                 Traceback (most recent call last)",
            "\u001b[0;32m<ipython-input-37-3f87ba135e05>\u001b[0m in \u001b[0;36m<module>\u001b[0;34m()\u001b[0m\n\u001b[1;32m      2\u001b[0m \u001b[0;34m\u001b[0m\u001b[0m\n\u001b[1;32m      3\u001b[0m \u001b[0mclient\u001b[0m \u001b[0;34m=\u001b[0m \u001b[0msoundcloud\u001b[0m\u001b[0;34m.\u001b[0m\u001b[0mClient\u001b[0m\u001b[0;34m(\u001b[0m\u001b[0mclient_id\u001b[0m\u001b[0;34m=\u001b[0m\u001b[0;34m'e6PnoBAyFVAG788KrTcgqLF0nv4ZaAtQ'\u001b[0m\u001b[0;34m)\u001b[0m\u001b[0;34m\u001b[0m\u001b[0;34m\u001b[0m\u001b[0m\n\u001b[0;32m----> 4\u001b[0;31m \u001b[0mtrack\u001b[0m \u001b[0;34m=\u001b[0m \u001b[0mclient\u001b[0m\u001b[0;34m.\u001b[0m\u001b[0mget\u001b[0m\u001b[0;34m(\u001b[0m\u001b[0;34m'/tracks/30709985'\u001b[0m\u001b[0;34m)\u001b[0m\u001b[0;34m\u001b[0m\u001b[0;34m\u001b[0m\u001b[0m\n\u001b[0m\u001b[1;32m      5\u001b[0m \u001b[0mprint\u001b[0m \u001b[0;34m(\u001b[0m\u001b[0mtrack\u001b[0m\u001b[0;34m.\u001b[0m\u001b[0mtitle\u001b[0m\u001b[0;34m)\u001b[0m\u001b[0;34m\u001b[0m\u001b[0;34m\u001b[0m\u001b[0m\n",
            "\u001b[0;32m/usr/local/lib/python3.7/dist-packages/soundcloud/client.py\u001b[0m in \u001b[0;36m_request\u001b[0;34m(self, method, resource, **kwargs)\u001b[0m\n\u001b[1;32m    131\u001b[0m             \u001b[0;34m'proxies'\u001b[0m\u001b[0;34m:\u001b[0m \u001b[0mself\u001b[0m\u001b[0;34m.\u001b[0m\u001b[0moptions\u001b[0m\u001b[0;34m.\u001b[0m\u001b[0mget\u001b[0m\u001b[0;34m(\u001b[0m\u001b[0;34m'proxies'\u001b[0m\u001b[0;34m,\u001b[0m \u001b[0;32mNone\u001b[0m\u001b[0;34m)\u001b[0m\u001b[0;34m\u001b[0m\u001b[0;34m\u001b[0m\u001b[0m\n\u001b[1;32m    132\u001b[0m         })\n\u001b[0;32m--> 133\u001b[0;31m         \u001b[0;32mreturn\u001b[0m \u001b[0mwrapped_resource\u001b[0m\u001b[0;34m(\u001b[0m\u001b[0mmake_request\u001b[0m\u001b[0;34m(\u001b[0m\u001b[0mmethod\u001b[0m\u001b[0;34m,\u001b[0m \u001b[0murl\u001b[0m\u001b[0;34m,\u001b[0m \u001b[0mkwargs\u001b[0m\u001b[0;34m)\u001b[0m\u001b[0;34m)\u001b[0m\u001b[0;34m\u001b[0m\u001b[0;34m\u001b[0m\u001b[0m\n\u001b[0m\u001b[1;32m    134\u001b[0m \u001b[0;34m\u001b[0m\u001b[0m\n\u001b[1;32m    135\u001b[0m     \u001b[0;32mdef\u001b[0m \u001b[0m__getattr__\u001b[0m\u001b[0;34m(\u001b[0m\u001b[0mself\u001b[0m\u001b[0;34m,\u001b[0m \u001b[0mname\u001b[0m\u001b[0;34m,\u001b[0m \u001b[0;34m**\u001b[0m\u001b[0mkwargs\u001b[0m\u001b[0;34m)\u001b[0m\u001b[0;34m:\u001b[0m\u001b[0;34m\u001b[0m\u001b[0;34m\u001b[0m\u001b[0m\n",
            "\u001b[0;32m/usr/local/lib/python3.7/dist-packages/soundcloud/request.py\u001b[0m in \u001b[0;36mmake_request\u001b[0;34m(method, url, params)\u001b[0m\n\u001b[1;32m    146\u001b[0m             \u001b[0mresult\u001b[0m\u001b[0;34m.\u001b[0m\u001b[0mraise_for_status\u001b[0m\u001b[0;34m(\u001b[0m\u001b[0;34m)\u001b[0m\u001b[0;34m\u001b[0m\u001b[0;34m\u001b[0m\u001b[0m\n\u001b[1;32m    147\u001b[0m     \u001b[0;32melse\u001b[0m\u001b[0;34m:\u001b[0m\u001b[0;34m\u001b[0m\u001b[0;34m\u001b[0m\u001b[0m\n\u001b[0;32m--> 148\u001b[0;31m         \u001b[0mresult\u001b[0m\u001b[0;34m.\u001b[0m\u001b[0mraise_for_status\u001b[0m\u001b[0;34m(\u001b[0m\u001b[0;34m)\u001b[0m\u001b[0;34m\u001b[0m\u001b[0;34m\u001b[0m\u001b[0m\n\u001b[0m\u001b[1;32m    149\u001b[0m     \u001b[0;32mreturn\u001b[0m \u001b[0mresult\u001b[0m\u001b[0;34m\u001b[0m\u001b[0;34m\u001b[0m\u001b[0m\n",
            "\u001b[0;32m/usr/local/lib/python3.7/dist-packages/requests/models.py\u001b[0m in \u001b[0;36mraise_for_status\u001b[0;34m(self)\u001b[0m\n\u001b[1;32m    939\u001b[0m \u001b[0;34m\u001b[0m\u001b[0m\n\u001b[1;32m    940\u001b[0m         \u001b[0;32mif\u001b[0m \u001b[0mhttp_error_msg\u001b[0m\u001b[0;34m:\u001b[0m\u001b[0;34m\u001b[0m\u001b[0;34m\u001b[0m\u001b[0m\n\u001b[0;32m--> 941\u001b[0;31m             \u001b[0;32mraise\u001b[0m \u001b[0mHTTPError\u001b[0m\u001b[0;34m(\u001b[0m\u001b[0mhttp_error_msg\u001b[0m\u001b[0;34m,\u001b[0m \u001b[0mresponse\u001b[0m\u001b[0;34m=\u001b[0m\u001b[0mself\u001b[0m\u001b[0;34m)\u001b[0m\u001b[0;34m\u001b[0m\u001b[0;34m\u001b[0m\u001b[0m\n\u001b[0m\u001b[1;32m    942\u001b[0m \u001b[0;34m\u001b[0m\u001b[0m\n\u001b[1;32m    943\u001b[0m     \u001b[0;32mdef\u001b[0m \u001b[0mclose\u001b[0m\u001b[0;34m(\u001b[0m\u001b[0mself\u001b[0m\u001b[0;34m)\u001b[0m\u001b[0;34m:\u001b[0m\u001b[0;34m\u001b[0m\u001b[0;34m\u001b[0m\u001b[0m\n",
            "\u001b[0;31mHTTPError\u001b[0m: 403 Client Error: Forbidden for url: https://api.soundcloud.com/tracks/30709985?client_id=e6PnoBAyFVAG788KrTcgqLF0nv4ZaAtQ"
          ]
        }
      ]
    },
    {
      "cell_type": "code",
      "metadata": {
        "colab": {
          "base_uri": "https://localhost:8080/",
          "height": 405
        },
        "id": "aBB6Sr6JfZjj",
        "outputId": "a821c750-c1e5-4cf6-c287-1592da671512"
      },
      "source": [
        "import soundcloud\n",
        "\n",
        "token= 'e6PnoBAyFVAG788KrTcgqLF0nv4ZaAtQ'\n",
        "\n",
        "client = soundcloud.Client(access_token=token)\n",
        "\n",
        "user_info = client.get('/me')\n",
        "\n",
        "user_favorites = client.get('/me/favorites')\n",
        "\n",
        "user_tracks = client.get('/me/tracks')"
      ],
      "execution_count": 39,
      "outputs": [
        {
          "output_type": "error",
          "ename": "HTTPError",
          "evalue": "ignored",
          "traceback": [
            "\u001b[0;31m---------------------------------------------------------------------------\u001b[0m",
            "\u001b[0;31mHTTPError\u001b[0m                                 Traceback (most recent call last)",
            "\u001b[0;32m<ipython-input-39-4c5997046396>\u001b[0m in \u001b[0;36m<module>\u001b[0;34m()\u001b[0m\n\u001b[1;32m      5\u001b[0m \u001b[0mclient\u001b[0m \u001b[0;34m=\u001b[0m \u001b[0msoundcloud\u001b[0m\u001b[0;34m.\u001b[0m\u001b[0mClient\u001b[0m\u001b[0;34m(\u001b[0m\u001b[0maccess_token\u001b[0m\u001b[0;34m=\u001b[0m\u001b[0mtoken\u001b[0m\u001b[0;34m)\u001b[0m\u001b[0;34m\u001b[0m\u001b[0;34m\u001b[0m\u001b[0m\n\u001b[1;32m      6\u001b[0m \u001b[0;34m\u001b[0m\u001b[0m\n\u001b[0;32m----> 7\u001b[0;31m \u001b[0muser_info\u001b[0m \u001b[0;34m=\u001b[0m \u001b[0mclient\u001b[0m\u001b[0;34m.\u001b[0m\u001b[0mget\u001b[0m\u001b[0;34m(\u001b[0m\u001b[0;34m'/me'\u001b[0m\u001b[0;34m)\u001b[0m\u001b[0;34m\u001b[0m\u001b[0;34m\u001b[0m\u001b[0m\n\u001b[0m\u001b[1;32m      8\u001b[0m \u001b[0;34m\u001b[0m\u001b[0m\n\u001b[1;32m      9\u001b[0m \u001b[0muser_favorites\u001b[0m \u001b[0;34m=\u001b[0m \u001b[0mclient\u001b[0m\u001b[0;34m.\u001b[0m\u001b[0mget\u001b[0m\u001b[0;34m(\u001b[0m\u001b[0;34m'/me/favorites'\u001b[0m\u001b[0;34m)\u001b[0m\u001b[0;34m\u001b[0m\u001b[0;34m\u001b[0m\u001b[0m\n",
            "\u001b[0;32m/usr/local/lib/python3.7/dist-packages/soundcloud/client.py\u001b[0m in \u001b[0;36m_request\u001b[0;34m(self, method, resource, **kwargs)\u001b[0m\n\u001b[1;32m    131\u001b[0m             \u001b[0;34m'proxies'\u001b[0m\u001b[0;34m:\u001b[0m \u001b[0mself\u001b[0m\u001b[0;34m.\u001b[0m\u001b[0moptions\u001b[0m\u001b[0;34m.\u001b[0m\u001b[0mget\u001b[0m\u001b[0;34m(\u001b[0m\u001b[0;34m'proxies'\u001b[0m\u001b[0;34m,\u001b[0m \u001b[0;32mNone\u001b[0m\u001b[0;34m)\u001b[0m\u001b[0;34m\u001b[0m\u001b[0;34m\u001b[0m\u001b[0m\n\u001b[1;32m    132\u001b[0m         })\n\u001b[0;32m--> 133\u001b[0;31m         \u001b[0;32mreturn\u001b[0m \u001b[0mwrapped_resource\u001b[0m\u001b[0;34m(\u001b[0m\u001b[0mmake_request\u001b[0m\u001b[0;34m(\u001b[0m\u001b[0mmethod\u001b[0m\u001b[0;34m,\u001b[0m \u001b[0murl\u001b[0m\u001b[0;34m,\u001b[0m \u001b[0mkwargs\u001b[0m\u001b[0;34m)\u001b[0m\u001b[0;34m)\u001b[0m\u001b[0;34m\u001b[0m\u001b[0;34m\u001b[0m\u001b[0m\n\u001b[0m\u001b[1;32m    134\u001b[0m \u001b[0;34m\u001b[0m\u001b[0m\n\u001b[1;32m    135\u001b[0m     \u001b[0;32mdef\u001b[0m \u001b[0m__getattr__\u001b[0m\u001b[0;34m(\u001b[0m\u001b[0mself\u001b[0m\u001b[0;34m,\u001b[0m \u001b[0mname\u001b[0m\u001b[0;34m,\u001b[0m \u001b[0;34m**\u001b[0m\u001b[0mkwargs\u001b[0m\u001b[0;34m)\u001b[0m\u001b[0;34m:\u001b[0m\u001b[0;34m\u001b[0m\u001b[0;34m\u001b[0m\u001b[0m\n",
            "\u001b[0;32m/usr/local/lib/python3.7/dist-packages/soundcloud/request.py\u001b[0m in \u001b[0;36mmake_request\u001b[0;34m(method, url, params)\u001b[0m\n\u001b[1;32m    146\u001b[0m             \u001b[0mresult\u001b[0m\u001b[0;34m.\u001b[0m\u001b[0mraise_for_status\u001b[0m\u001b[0;34m(\u001b[0m\u001b[0;34m)\u001b[0m\u001b[0;34m\u001b[0m\u001b[0;34m\u001b[0m\u001b[0m\n\u001b[1;32m    147\u001b[0m     \u001b[0;32melse\u001b[0m\u001b[0;34m:\u001b[0m\u001b[0;34m\u001b[0m\u001b[0;34m\u001b[0m\u001b[0m\n\u001b[0;32m--> 148\u001b[0;31m         \u001b[0mresult\u001b[0m\u001b[0;34m.\u001b[0m\u001b[0mraise_for_status\u001b[0m\u001b[0;34m(\u001b[0m\u001b[0;34m)\u001b[0m\u001b[0;34m\u001b[0m\u001b[0;34m\u001b[0m\u001b[0m\n\u001b[0m\u001b[1;32m    149\u001b[0m     \u001b[0;32mreturn\u001b[0m \u001b[0mresult\u001b[0m\u001b[0;34m\u001b[0m\u001b[0;34m\u001b[0m\u001b[0m\n",
            "\u001b[0;32m/usr/local/lib/python3.7/dist-packages/requests/models.py\u001b[0m in \u001b[0;36mraise_for_status\u001b[0;34m(self)\u001b[0m\n\u001b[1;32m    939\u001b[0m \u001b[0;34m\u001b[0m\u001b[0m\n\u001b[1;32m    940\u001b[0m         \u001b[0;32mif\u001b[0m \u001b[0mhttp_error_msg\u001b[0m\u001b[0;34m:\u001b[0m\u001b[0;34m\u001b[0m\u001b[0;34m\u001b[0m\u001b[0m\n\u001b[0;32m--> 941\u001b[0;31m             \u001b[0;32mraise\u001b[0m \u001b[0mHTTPError\u001b[0m\u001b[0;34m(\u001b[0m\u001b[0mhttp_error_msg\u001b[0m\u001b[0;34m,\u001b[0m \u001b[0mresponse\u001b[0m\u001b[0;34m=\u001b[0m\u001b[0mself\u001b[0m\u001b[0;34m)\u001b[0m\u001b[0;34m\u001b[0m\u001b[0;34m\u001b[0m\u001b[0m\n\u001b[0m\u001b[1;32m    942\u001b[0m \u001b[0;34m\u001b[0m\u001b[0m\n\u001b[1;32m    943\u001b[0m     \u001b[0;32mdef\u001b[0m \u001b[0mclose\u001b[0m\u001b[0;34m(\u001b[0m\u001b[0mself\u001b[0m\u001b[0;34m)\u001b[0m\u001b[0;34m:\u001b[0m\u001b[0;34m\u001b[0m\u001b[0;34m\u001b[0m\u001b[0m\n",
            "\u001b[0;31mHTTPError\u001b[0m: 401 Client Error: Unauthorized for url: https://api.soundcloud.com/me?oauth_token=e6PnoBAyFVAG788KrTcgqLF0nv4ZaAtQ"
          ]
        }
      ]
    },
    {
      "cell_type": "code",
      "metadata": {
        "colab": {
          "base_uri": "https://localhost:8080/",
          "height": 352
        },
        "id": "zeS0iC6fgNe7",
        "outputId": "a52f8fbb-7e0d-4131-f724-fe9b0243f9ba"
      },
      "source": [
        "import soundcloud\n",
        "\n",
        "client = soundcloud.Client(access_token=\"e6PnoBAyFVAG788KrTcgqLF0nv4ZaAtQ\")\n",
        "user_id_to_follow = 123\n",
        "client.put('/me/followings/%d' % user_id_to_follow)"
      ],
      "execution_count": 40,
      "outputs": [
        {
          "output_type": "error",
          "ename": "HTTPError",
          "evalue": "ignored",
          "traceback": [
            "\u001b[0;31m---------------------------------------------------------------------------\u001b[0m",
            "\u001b[0;31mHTTPError\u001b[0m                                 Traceback (most recent call last)",
            "\u001b[0;32m<ipython-input-40-bc4b77de12fb>\u001b[0m in \u001b[0;36m<module>\u001b[0;34m()\u001b[0m\n\u001b[1;32m      3\u001b[0m \u001b[0mclient\u001b[0m \u001b[0;34m=\u001b[0m \u001b[0msoundcloud\u001b[0m\u001b[0;34m.\u001b[0m\u001b[0mClient\u001b[0m\u001b[0;34m(\u001b[0m\u001b[0maccess_token\u001b[0m\u001b[0;34m=\u001b[0m\u001b[0;34m\"e6PnoBAyFVAG788KrTcgqLF0nv4ZaAtQ\"\u001b[0m\u001b[0;34m)\u001b[0m\u001b[0;34m\u001b[0m\u001b[0;34m\u001b[0m\u001b[0m\n\u001b[1;32m      4\u001b[0m \u001b[0muser_id_to_follow\u001b[0m \u001b[0;34m=\u001b[0m \u001b[0;36m123\u001b[0m\u001b[0;34m\u001b[0m\u001b[0;34m\u001b[0m\u001b[0m\n\u001b[0;32m----> 5\u001b[0;31m \u001b[0mclient\u001b[0m\u001b[0;34m.\u001b[0m\u001b[0mput\u001b[0m\u001b[0;34m(\u001b[0m\u001b[0;34m'/me/followings/%d'\u001b[0m \u001b[0;34m%\u001b[0m \u001b[0muser_id_to_follow\u001b[0m\u001b[0;34m)\u001b[0m\u001b[0;34m\u001b[0m\u001b[0;34m\u001b[0m\u001b[0m\n\u001b[0m",
            "\u001b[0;32m/usr/local/lib/python3.7/dist-packages/soundcloud/client.py\u001b[0m in \u001b[0;36m_request\u001b[0;34m(self, method, resource, **kwargs)\u001b[0m\n\u001b[1;32m    131\u001b[0m             \u001b[0;34m'proxies'\u001b[0m\u001b[0;34m:\u001b[0m \u001b[0mself\u001b[0m\u001b[0;34m.\u001b[0m\u001b[0moptions\u001b[0m\u001b[0;34m.\u001b[0m\u001b[0mget\u001b[0m\u001b[0;34m(\u001b[0m\u001b[0;34m'proxies'\u001b[0m\u001b[0;34m,\u001b[0m \u001b[0;32mNone\u001b[0m\u001b[0;34m)\u001b[0m\u001b[0;34m\u001b[0m\u001b[0;34m\u001b[0m\u001b[0m\n\u001b[1;32m    132\u001b[0m         })\n\u001b[0;32m--> 133\u001b[0;31m         \u001b[0;32mreturn\u001b[0m \u001b[0mwrapped_resource\u001b[0m\u001b[0;34m(\u001b[0m\u001b[0mmake_request\u001b[0m\u001b[0;34m(\u001b[0m\u001b[0mmethod\u001b[0m\u001b[0;34m,\u001b[0m \u001b[0murl\u001b[0m\u001b[0;34m,\u001b[0m \u001b[0mkwargs\u001b[0m\u001b[0;34m)\u001b[0m\u001b[0;34m)\u001b[0m\u001b[0;34m\u001b[0m\u001b[0;34m\u001b[0m\u001b[0m\n\u001b[0m\u001b[1;32m    134\u001b[0m \u001b[0;34m\u001b[0m\u001b[0m\n\u001b[1;32m    135\u001b[0m     \u001b[0;32mdef\u001b[0m \u001b[0m__getattr__\u001b[0m\u001b[0;34m(\u001b[0m\u001b[0mself\u001b[0m\u001b[0;34m,\u001b[0m \u001b[0mname\u001b[0m\u001b[0;34m,\u001b[0m \u001b[0;34m**\u001b[0m\u001b[0mkwargs\u001b[0m\u001b[0;34m)\u001b[0m\u001b[0;34m:\u001b[0m\u001b[0;34m\u001b[0m\u001b[0;34m\u001b[0m\u001b[0m\n",
            "\u001b[0;32m/usr/local/lib/python3.7/dist-packages/soundcloud/request.py\u001b[0m in \u001b[0;36mmake_request\u001b[0;34m(method, url, params)\u001b[0m\n\u001b[1;32m    146\u001b[0m             \u001b[0mresult\u001b[0m\u001b[0;34m.\u001b[0m\u001b[0mraise_for_status\u001b[0m\u001b[0;34m(\u001b[0m\u001b[0;34m)\u001b[0m\u001b[0;34m\u001b[0m\u001b[0;34m\u001b[0m\u001b[0m\n\u001b[1;32m    147\u001b[0m     \u001b[0;32melse\u001b[0m\u001b[0;34m:\u001b[0m\u001b[0;34m\u001b[0m\u001b[0;34m\u001b[0m\u001b[0m\n\u001b[0;32m--> 148\u001b[0;31m         \u001b[0mresult\u001b[0m\u001b[0;34m.\u001b[0m\u001b[0mraise_for_status\u001b[0m\u001b[0;34m(\u001b[0m\u001b[0;34m)\u001b[0m\u001b[0;34m\u001b[0m\u001b[0;34m\u001b[0m\u001b[0m\n\u001b[0m\u001b[1;32m    149\u001b[0m     \u001b[0;32mreturn\u001b[0m \u001b[0mresult\u001b[0m\u001b[0;34m\u001b[0m\u001b[0;34m\u001b[0m\u001b[0m\n",
            "\u001b[0;32m/usr/local/lib/python3.7/dist-packages/requests/models.py\u001b[0m in \u001b[0;36mraise_for_status\u001b[0;34m(self)\u001b[0m\n\u001b[1;32m    939\u001b[0m \u001b[0;34m\u001b[0m\u001b[0m\n\u001b[1;32m    940\u001b[0m         \u001b[0;32mif\u001b[0m \u001b[0mhttp_error_msg\u001b[0m\u001b[0;34m:\u001b[0m\u001b[0;34m\u001b[0m\u001b[0;34m\u001b[0m\u001b[0m\n\u001b[0;32m--> 941\u001b[0;31m             \u001b[0;32mraise\u001b[0m \u001b[0mHTTPError\u001b[0m\u001b[0;34m(\u001b[0m\u001b[0mhttp_error_msg\u001b[0m\u001b[0;34m,\u001b[0m \u001b[0mresponse\u001b[0m\u001b[0;34m=\u001b[0m\u001b[0mself\u001b[0m\u001b[0;34m)\u001b[0m\u001b[0;34m\u001b[0m\u001b[0;34m\u001b[0m\u001b[0m\n\u001b[0m\u001b[1;32m    942\u001b[0m \u001b[0;34m\u001b[0m\u001b[0m\n\u001b[1;32m    943\u001b[0m     \u001b[0;32mdef\u001b[0m \u001b[0mclose\u001b[0m\u001b[0;34m(\u001b[0m\u001b[0mself\u001b[0m\u001b[0;34m)\u001b[0m\u001b[0;34m:\u001b[0m\u001b[0;34m\u001b[0m\u001b[0;34m\u001b[0m\u001b[0m\n",
            "\u001b[0;31mHTTPError\u001b[0m: 401 Client Error: Unauthorized for url: https://api.soundcloud.com/me/followings/123"
          ]
        }
      ]
    },
    {
      "cell_type": "code",
      "metadata": {
        "colab": {
          "base_uri": "https://localhost:8080/"
        },
        "id": "30X4uMWxhaBX",
        "outputId": "6ce7e450-5af3-41fb-f18b-db0c87864cbe"
      },
      "source": [
        "!pip install youtube-dl\n",
        "!youtube-dl -v https://soundcloud.com/oneireuthslowbap/kantonamoiazei\n"
      ],
      "execution_count": 41,
      "outputs": [
        {
          "output_type": "stream",
          "text": [
            "Collecting youtube-dl\n",
            "\u001b[?25l  Downloading https://files.pythonhosted.org/packages/a4/43/1f586e49e68f8b41c4be416302bf96ddd5040b0e744b5902d51063795eb9/youtube_dl-2021.6.6-py2.py3-none-any.whl (1.9MB)\n",
            "\u001b[K     |████████████████████████████████| 1.9MB 8.7MB/s \n",
            "\u001b[?25hInstalling collected packages: youtube-dl\n",
            "Successfully installed youtube-dl-2021.6.6\n",
            "[debug] System config: []\n",
            "[debug] User config: []\n",
            "[debug] Custom config: []\n",
            "[debug] Command-line args: ['-v', 'https://soundcloud.com/oneireuthslowbap/kantonamoiazei']\n",
            "[debug] Encodings: locale UTF-8, fs utf-8, out UTF-8, pref UTF-8\n",
            "[debug] youtube-dl version 2021.06.06\n",
            "[debug] Python version 3.7.10 (CPython) - Linux-5.4.104+-x86_64-with-Ubuntu-18.04-bionic\n",
            "[debug] exe versions: ffmpeg 3.4.8, ffprobe 3.4.8\n",
            "[debug] Proxy map: {}\n",
            "[soundcloud] oneireuthslowbap/kantonamoiazei: Downloading info JSON\n",
            "[soundcloud] None: Downloading webpage\n",
            "[soundcloud] None: Downloading webpage\n",
            "[soundcloud] oneireuthslowbap/kantonamoiazei: Downloading info JSON\n",
            "[soundcloud] 544978293: Downloading JSON metadata\n",
            "[soundcloud] 544978293: Downloading JSON metadata\n",
            "[soundcloud] 544978293: Downloading JSON metadata\n",
            "[debug] Default format spec: bestvideo+bestaudio/best\n",
            "[debug] Invoking downloader on 'https://cf-media.sndcdn.com/CGyDcQJB4V3G.128.mp3?Policy=eyJTdGF0ZW1lbnQiOlt7IlJlc291cmNlIjoiKjovL2NmLW1lZGlhLnNuZGNkbi5jb20vQ0d5RGNRSkI0VjNHLjEyOC5tcDMiLCJDb25kaXRpb24iOnsiRGF0ZUxlc3NUaGFuIjp7IkFXUzpFcG9jaFRpbWUiOjE2MjYyMDc5OTh9fX1dfQ__&Signature=D7hOz-UHQnbR-CJT9O8ne9wu8QzJGiB6QlZ0ISZCOuAqL51o-B5qH~gsAVRtN1ohL6b-SwE9UNWgmIBdYR~evyQw5q4Z18aNoYqbaGeu2t4nsSB3w6M7yAtzkWVVmpVmxn~F-Ybtt1bgqubU4sw2IdOBmzBbs6KQXXIZw77Iu0eaSSQeQ5qK3GieZabWPvuKIer-OsxaQ0CZ9wuwXEtbLOh9J9aHITUBXtgv-BBi3WnFzCAKww0iIOPWv1vdhzmbppKA4sjYlJI-PqFkx9iOd6MJP2r01B6BQ3s1NA1fBi6sFLAUXgRuFyBKzWgUQVU6s-u9fPxQ7vNWlHCpVs9g5Q__&Key-Pair-Id=APKAI6TU7MMXM5DG6EPQ'\n",
            "[download] Destination: Ονειρευτής - Καν'το να μοιάζει-544978293.mp3\n",
            "\u001b[K[download] 100% of 4.87MiB in 00:00\n"
          ],
          "name": "stdout"
        }
      ]
    },
    {
      "cell_type": "code",
      "metadata": {
        "id": "JZBQ7PDphqNR"
      },
      "source": [
        "!youtube-dl -g \"https://soundcloud.com/username-goes-here/likes\""
      ],
      "execution_count": 43,
      "outputs": []
    },
    {
      "cell_type": "code",
      "metadata": {
        "colab": {
          "base_uri": "https://localhost:8080/"
        },
        "id": "KpchQzqDhwXR",
        "outputId": "62b2560d-0146-46de-e161-f6e3e19b4fad"
      },
      "source": [
        "!youtube-dl  'https://soundcloud.com/razhavaniazha-com' -v"
      ],
      "execution_count": 45,
      "outputs": [
        {
          "output_type": "stream",
          "text": [
            "[debug] System config: []\n",
            "[debug] User config: []\n",
            "[debug] Custom config: []\n",
            "[debug] Command-line args: ['https://soundcloud.com/razhavaniazha-com', '-v']\n",
            "[debug] Encodings: locale UTF-8, fs utf-8, out UTF-8, pref UTF-8\n",
            "[debug] youtube-dl version 2021.06.06\n",
            "[debug] Python version 3.7.10 (CPython) - Linux-5.4.104+-x86_64-with-Ubuntu-18.04-bionic\n",
            "[debug] exe versions: ffmpeg 3.4.8, ffprobe 3.4.8\n",
            "[debug] Proxy map: {}\n",
            "[soundcloud:user] razhavaniazha-com: Downloading user info\n",
            "[soundcloud:user] 34408815: Downloading track page 1\n",
            "[soundcloud:user] 34408815: Downloading track page 2\n",
            "[soundcloud:user] 34408815: Downloading track page 3\n",
            "[soundcloud:user] 34408815: Downloading track page 4\n",
            "[soundcloud:user] 34408815: Downloading track page 5\n",
            "[soundcloud:user] 34408815: Downloading track page 6\n",
            "[soundcloud:user] 34408815: Downloading track page 7\n",
            "[soundcloud:user] 34408815: Downloading track page 8\n",
            "[soundcloud:user] 34408815: Downloading track page 9\n",
            "[soundcloud:user] 34408815: Downloading track page 10\n",
            "[soundcloud:user] 34408815: Downloading track page 11\n",
            "[soundcloud:user] 34408815: Downloading track page 12\n",
            "[soundcloud:user] 34408815: Downloading track page 13\n",
            "[soundcloud:user] 34408815: Downloading track page 14\n",
            "[soundcloud:user] 34408815: Downloading track page 15\n",
            "[soundcloud:user] 34408815: Downloading track page 16\n",
            "[soundcloud:user] 34408815: Downloading track page 17\n",
            "[soundcloud:user] 34408815: Downloading track page 18\n",
            "[soundcloud:user] 34408815: Downloading track page 19\n",
            "[soundcloud:user] 34408815: Downloading track page 20\n",
            "[soundcloud:user] 34408815: Downloading track page 21\n",
            "[soundcloud:user] 34408815: Downloading track page 22\n",
            "[soundcloud:user] 34408815: Downloading track page 23\n",
            "[soundcloud:user] 34408815: Downloading track page 24\n",
            "[download] Downloading playlist: Razha va Niazha (All)\n",
            "[soundcloud:user] playlist Razha va Niazha (All): Collected 4 video ids (downloading 4 of them)\n",
            "[download] Downloading video 1 of 4\n",
            "[soundcloud] razhavaniazha-com/13-04-2020-r-m: Downloading info JSON\n",
            "[soundcloud] 797723128: Downloading JSON metadata\n",
            "[soundcloud] 797723128: Downloading JSON metadata\n",
            "[soundcloud] 797723128: Downloading JSON metadata\n",
            "[debug] Default format spec: bestvideo+bestaudio/best\n",
            "[debug] Invoking downloader on 'https://cf-media.sndcdn.com/5kyGaCghIMQX.128.mp3?Policy=eyJTdGF0ZW1lbnQiOlt7IlJlc291cmNlIjoiKjovL2NmLW1lZGlhLnNuZGNkbi5jb20vNWt5R2FDZ2hJTVFYLjEyOC5tcDMiLCJDb25kaXRpb24iOnsiRGF0ZUxlc3NUaGFuIjp7IkFXUzpFcG9jaFRpbWUiOjE2MjYyMTUwMzJ9fX1dfQ__&Signature=GAA67Ze~4L0-YPmF17jnR2niZ7CSYUDhp2Xxo3pslFpQmKACOFbSzidXSZfWKIOxL93yO5qjdBLLSg6a7ZVfjN7UeM2blP~IzjH0Sx7dhj2d0cREB2fIZnjLNOE8uc76zdlAj0hqdNovGSqrdeyihdWGY4c8aDP6iZCCYqDqX0OPUsh05UJLYnr8zIEh1ghjTRYg2TEOoZNC1tc8WE1npXUOVamffB~CGfhWQxHGVvRqd3QIA5PNKXhUWDE0rsbSBuZg7AF66wF0-og8uvBzT8CQN3gmXYeGQ1LNDyJ3mVPdn867xW88eR~mSWTyvjEIBw5HcmDwjktuP2E4Mn~i0w__&Key-Pair-Id=APKAI6TU7MMXM5DG6EPQ'\n",
            "[download] Destination: 13.April 2020 - دکتر هلاکویی , رازها و نیازها, صبح-797723128.mp3\n",
            "\u001b[K[download] 100% of 109.03MiB in 00:04\n",
            "[download] Downloading video 2 of 4\n",
            "[soundcloud] user-989372367/december-05-2016-in-session-with-dr-farid-holakouee: Downloading info JSON\n",
            "[soundcloud] 296884356: Downloading JSON metadata\n",
            "[soundcloud] 296884356: Downloading JSON metadata\n",
            "[soundcloud] 296884356: Downloading JSON metadata\n",
            "[debug] Default format spec: bestvideo+bestaudio/best\n",
            "[debug] Invoking downloader on 'https://cf-media.sndcdn.com/hfF9SNqqHNqc.128.mp3?Policy=eyJTdGF0ZW1lbnQiOlt7IlJlc291cmNlIjoiKjovL2NmLW1lZGlhLnNuZGNkbi5jb20vaGZGOVNOcXFITnFjLjEyOC5tcDMiLCJDb25kaXRpb24iOnsiRGF0ZUxlc3NUaGFuIjp7IkFXUzpFcG9jaFRpbWUiOjE2MjYyMTA3OTZ9fX1dfQ__&Signature=AsYFct-WzFhWN9u2PAPcLz~h1qAwA48cVl885vIw0WOV3IaEnU4eV55gFrwa4W7jeM57ha-DOwwd6PdH09TB~0aNoQcsrtnrUQULnuLOXAVaNCwCLV-zxyv2WIMOrRQKLvVVKI1bcEGgTlQiwSNf23SqhuPwTGgKESiYsIeoH9e-I83tpJFVlKNppbes6m6qjb9BJoAo9fHjA3zNfCX0~n9If4RbIKk0fnhA9-C0iiwKVqLEAprbCp8yQgzbobqTNsSMANbhJdTAWCp4A9m09jdiJ6fsgLd9HcyvalOkt9Ocyf1o1qyFlsgz9Qo51YH8ExET4-f2Q7Q5hg1Qh07ErA__&Key-Pair-Id=APKAI6TU7MMXM5DG6EPQ'\n",
            "[download] Destination: December 05, 2016 In Session with Dr. Farid Holakouee-296884356.mp3\n",
            "\u001b[K[download] 100% of 44.31MiB in 00:02\n",
            "[download] Downloading video 3 of 4\n",
            "[soundcloud] user-989372367/december-07-2016-in-session-with-dr-farid-holakouee: Downloading info JSON\n",
            "[soundcloud] 296886412: Downloading JSON metadata\n",
            "[soundcloud] 296886412: Downloading JSON metadata\n",
            "[soundcloud] 296886412: Downloading JSON metadata\n",
            "[debug] Default format spec: bestvideo+bestaudio/best\n",
            "[debug] Invoking downloader on 'https://cf-media.sndcdn.com/1zBjNKfYrKQ7.128.mp3?Policy=eyJTdGF0ZW1lbnQiOlt7IlJlc291cmNlIjoiKjovL2NmLW1lZGlhLnNuZGNkbi5jb20vMXpCak5LZllyS1E3LjEyOC5tcDMiLCJDb25kaXRpb24iOnsiRGF0ZUxlc3NUaGFuIjp7IkFXUzpFcG9jaFRpbWUiOjE2MjYyMTM2NDB9fX1dfQ__&Signature=EhCYroXY2NQrkANEYA~hffyrFv1gVeQx6dU9jlVUalRf~u001mgznyZwbmm73M3h7jHfNRWtMILH-exUcJETrxsq2mF9BVjRaaUggS1iJ9z~ohRUDuQTRboU6X3bATrWxzVx4S0BRfvnFTjsoYhjsFYBZshwpkG0wZVlPXRW8y5jjThaBtlZ0CPhFNZYw~4TOJ-eJ0kyFGa0rTEd3sVepgoF~aUrDLMjFQ2CONBsSeMZo7qEdgoQHsegDXxoF~bPAhk5JUbEsB3hhN8drzg0pDiihThU20SZkEY8umxQLEYKQZgXnELUhgC8a1K5PXtTjEBwVoutSbEW~Z10TlYpXg__&Key-Pair-Id=APKAI6TU7MMXM5DG6EPQ'\n",
            "[download] Destination: December 07, 2016 In Session with Dr. Farid Holakouee-296886412.mp3\n",
            "\u001b[K[download] 100% of 87.65MiB in 00:03\n",
            "[download] Downloading video 4 of 4\n",
            "[soundcloud:set] razhavaniazha-com/sets/june-2013: Downloading JSON metadata\n",
            "[download] Downloading playlist: June 2013\n",
            "[soundcloud:set] playlist June 2013: Collected 0 video ids (downloading 0 of them)\n",
            "[download] Finished downloading playlist: June 2013\n",
            "[download] Finished downloading playlist: Razha va Niazha (All)\n"
          ],
          "name": "stdout"
        }
      ]
    },
    {
      "cell_type": "markdown",
      "metadata": {
        "id": "-UCrI08GguRE"
      },
      "source": [
        "# Uploading MP3 files to telegram Group:\n"
      ]
    },
    {
      "cell_type": "markdown",
      "metadata": {
        "id": "jFFlo4YjjhDd"
      },
      "source": [
        "##if you want to send the file with pure requests lib, you can use following snippet:\n",
        "[![enter image description here][1]][1]\n",
        "\n",
        "\n",
        "  [1]: https://i.stack.imgur.com/NZNJD.png"
      ]
    },
    {
      "cell_type": "code",
      "metadata": {
        "id": "zErP64CVjtcp",
        "colab": {
          "base_uri": "https://localhost:8080/",
          "height": 132
        },
        "outputId": "82505ed0-7b37-487e-cde0-c71a241cc330"
      },
      "source": [
        "import requests\n",
        "with open('tests/test.mp3', 'rb') as audio:\n",
        "    payload = {\n",
        "        'chat_id': TELEGRAM_CHAT_ID,\n",
        "        'title': 'file.mp3'\n",
        "        'parse_mode': 'HTML'\n",
        "    }\n",
        "    files = {\n",
        "        'audio': audio.read(),\n",
        "    }\n",
        "    resp = requests.post(\n",
        "        \"https://api.telegram.org/bot{token}/sendAudio\".format(token=TELEGRAM_TOKEN),\n",
        "        data=payload,\n",
        "        files=files).json()"
      ],
      "execution_count": 18,
      "outputs": [
        {
          "output_type": "error",
          "ename": "SyntaxError",
          "evalue": "ignored",
          "traceback": [
            "\u001b[0;36m  File \u001b[0;32m\"<ipython-input-18-5ab2c1cff308>\"\u001b[0;36m, line \u001b[0;32m6\u001b[0m\n\u001b[0;31m    'parse_mode': 'HTML'\u001b[0m\n\u001b[0m                ^\u001b[0m\n\u001b[0;31mSyntaxError\u001b[0m\u001b[0;31m:\u001b[0m invalid syntax\n"
          ]
        }
      ]
    },
    {
      "cell_type": "markdown",
      "metadata": {
        "id": "Q8z7akjwjNN8"
      },
      "source": [
        "## Uploading to telegram Chanel by  [`pip install telegram-upload`](https://pypi.org/project/telegram-upload/)\n",
        "[![enter image description here][1]][1]\n",
        "\n",
        "\n",
        "  [1]: https://i.stack.imgur.com/6LXHs.png\n",
        "\n"
      ]
    },
    {
      "cell_type": "code",
      "metadata": {
        "id": "sr3pxSpZg0Tq",
        "colab": {
          "base_uri": "https://localhost:8080/"
        },
        "outputId": "1a648c8f-53f4-4300-bb7a-c8fbd7ba35c4"
      },
      "source": [
        "!pip3 install -U telegram-upload"
      ],
      "execution_count": 50,
      "outputs": [
        {
          "output_type": "stream",
          "text": [
            "Collecting telegram-upload\n",
            "  Downloading https://files.pythonhosted.org/packages/5c/de/334984919e768026b375d25e9d11abf6592e73f2986815a5ea6d4abbad50/telegram_upload-0.4.0-py2.py3-none-any.whl\n",
            "Collecting telethon\n",
            "\u001b[?25l  Downloading https://files.pythonhosted.org/packages/91/31/c67ce9f9dd4408e2c9c36a12605bd40a717ffe8420020b28c045894bfda1/Telethon-1.23.0-py3-none-any.whl (522kB)\n",
            "\u001b[K     |████████████████████████████████| 522kB 9.5MB/s \n",
            "\u001b[?25hCollecting hachoir\n",
            "\u001b[?25l  Downloading https://files.pythonhosted.org/packages/bf/bf/417db3435ad817a3df9de40cc8e448edc50307db2a9431bc36c67bdf08a8/hachoir-3.1.2-py3-none-any.whl (640kB)\n",
            "\u001b[K     |████████████████████████████████| 645kB 34.6MB/s \n",
            "\u001b[?25hCollecting cryptg\n",
            "\u001b[?25l  Downloading https://files.pythonhosted.org/packages/a3/50/66f8889d4b24a921b61de8d2601a3afdab2052597ee633a4553066a5490f/cryptg-0.2.post4-cp37-cp37m-manylinux2010_x86_64.whl (41kB)\n",
            "\u001b[K     |████████████████████████████████| 51kB 6.2MB/s \n",
            "\u001b[?25hRequirement already satisfied, skipping upgrade: click>=6.0 in /usr/local/lib/python3.7/dist-packages (from telegram-upload) (7.1.2)\n",
            "Collecting pyaes\n",
            "  Downloading https://files.pythonhosted.org/packages/44/66/2c17bae31c906613795711fc78045c285048168919ace2220daa372c7d72/pyaes-1.6.1.tar.gz\n",
            "Requirement already satisfied, skipping upgrade: rsa in /usr/local/lib/python3.7/dist-packages (from telethon->telegram-upload) (4.7.2)\n",
            "Requirement already satisfied, skipping upgrade: pycparser in /usr/local/lib/python3.7/dist-packages (from cryptg->telegram-upload) (2.20)\n",
            "Requirement already satisfied, skipping upgrade: cffi>=1.0.0 in /usr/local/lib/python3.7/dist-packages (from cryptg->telegram-upload) (1.14.5)\n",
            "Requirement already satisfied, skipping upgrade: pyasn1>=0.1.3 in /usr/local/lib/python3.7/dist-packages (from rsa->telethon->telegram-upload) (0.4.8)\n",
            "Building wheels for collected packages: pyaes\n",
            "  Building wheel for pyaes (setup.py) ... \u001b[?25l\u001b[?25hdone\n",
            "  Created wheel for pyaes: filename=pyaes-1.6.1-cp37-none-any.whl size=26363 sha256=44408c2f83008a0cb8e5cb0753500fbf56c6071b2dfe42f4f343d6ff53f6a78a\n",
            "  Stored in directory: /root/.cache/pip/wheels/bd/cf/7b/ced9e8f28c50ed666728e8ab178ffedeb9d06f6a10f85d6432\n",
            "Successfully built pyaes\n",
            "Installing collected packages: pyaes, telethon, hachoir, cryptg, telegram-upload\n",
            "Successfully installed cryptg-0.2.post4 hachoir-3.1.2 pyaes-1.6.1 telegram-upload-0.4.0 telethon-1.23.0\n"
          ],
          "name": "stdout"
        }
      ]
    },
    {
      "cell_type": "code",
      "metadata": {
        "id": "gBmJGA9Mh1WF",
        "colab": {
          "base_uri": "https://localhost:8080/"
        },
        "outputId": "da386918-d5bb-4278-bfe3-3746e10fbcbf"
      },
      "source": [
        "!telegram-upload \"December 07, 2016 In Session with Dr. Farid Holakouee.mp3\" --directories '/content/radio-hamrah' --to 'https://t.me/joinchat/vu-hk9HAU982MmJk' #\"/content/radio-hamrah/December 07, 2016 In Session with Dr. Farid Holakouee.mp3\"  #'-1001536917481'"
      ],
      "execution_count": null,
      "outputs": [
        {
          "output_type": "stream",
          "text": [
            "\u001b[?25lUploading \"December 07, 2016 In Session with Dr. Farid Holakouee.mp3\"  [############################--------]   78%  00:00:27"
          ],
          "name": "stdout"
        }
      ]
    },
    {
      "cell_type": "markdown",
      "metadata": {
        "id": "m2_9LTDRioeE"
      },
      "source": [
        "#Uploading to telegram chanel by  [`pip install telegram-cloud`](https://pypi.org/project/telegram-cloud/)\n",
        "[![enter image description here][1]][1]\n",
        "\n",
        "\n",
        "  [1]: https://i.stack.imgur.com/pe3K2.png\n",
        "\n"
      ]
    },
    {
      "cell_type": "code",
      "metadata": {
        "id": "f3VmSJU3ip7W"
      },
      "source": [
        "!pip install telegram-cloud"
      ],
      "execution_count": null,
      "outputs": []
    },
    {
      "cell_type": "code",
      "metadata": {
        "colab": {
          "base_uri": "https://localhost:8080/"
        },
        "id": "pg5RAN9XmhdG",
        "outputId": "5d1d625b-1a32-4e3b-ea3a-390685909b07"
      },
      "source": [
        "! git clone --recursive https://github.com/vysheng/tg.git && cd tg\n",
        "! sudo apt-get install libreadline-dev libconfig-dev libssl-dev lua5.2 liblua5.2-dev libevent-dev libjansson-dev libpython-dev make \n"
      ],
      "execution_count": 52,
      "outputs": [
        {
          "output_type": "stream",
          "text": [
            "Cloning into 'tg'...\n",
            "remote: Enumerating objects: 4511, done.\u001b[K\n",
            "remote: Total 4511 (delta 0), reused 0 (delta 0), pack-reused 4511\u001b[K\n",
            "Receiving objects: 100% (4511/4511), 2.99 MiB | 12.21 MiB/s, done.\n",
            "Resolving deltas: 100% (3041/3041), done.\n",
            "Submodule 'tgl' (https://github.com/vysheng/tgl.git) registered for path 'tgl'\n",
            "Cloning into '/content/radio-hamrah/tg/tgl'...\n",
            "remote: Enumerating objects: 1555, done.        \n",
            "remote: Total 1555 (delta 0), reused 0 (delta 0), pack-reused 1555        \n",
            "Receiving objects: 100% (1555/1555), 1.03 MiB | 3.33 MiB/s, done.\n",
            "Resolving deltas: 100% (1137/1137), done.\n",
            "Submodule path 'tgl': checked out 'ffb04caca71de0cddf28cd33a4575922900a59ed'\n",
            "Submodule 'tl-parser' (https://github.com/vysheng/tl-parser) registered for path 'tgl/tl-parser'\n",
            "Cloning into '/content/radio-hamrah/tg/tgl/tl-parser'...\n",
            "remote: Enumerating objects: 87, done.        \n",
            "remote: Counting objects: 100% (16/16), done.        \n",
            "remote: Compressing objects: 100% (13/13), done.        \n",
            "remote: Total 87 (delta 4), reused 10 (delta 3), pack-reused 71        \n",
            "Submodule path 'tgl/tl-parser': checked out '36bf1902ff3476c75d0b1f42b34a91e944123b3c'\n",
            "Reading package lists... Done\n",
            "Building dependency tree       \n",
            "Reading state information... Done\n",
            "libpython-dev is already the newest version (2.7.15~rc1-1).\n",
            "libreadline-dev is already the newest version (7.0-3).\n",
            "libreadline-dev set to manually installed.\n",
            "make is already the newest version (4.1-9.1ubuntu1).\n",
            "make set to manually installed.\n",
            "libssl-dev is already the newest version (1.1.1-1ubuntu2.1~18.04.9).\n",
            "The following additional packages will be installed:\n",
            "  autotools-dev file libconfig-doc libconfig9 libevent-core-2.1-6\n",
            "  libevent-extra-2.1-6 libevent-openssl-2.1-6 libevent-pthreads-2.1-6\n",
            "  liblua5.2-0 libmagic-mgc libmagic1 libtool libtool-bin\n",
            "Suggested packages:\n",
            "  libtool-doc autoconf automaken gcj-jdk\n",
            "The following NEW packages will be installed:\n",
            "  autotools-dev file libconfig-dev libconfig-doc libconfig9\n",
            "  libevent-core-2.1-6 libevent-dev libevent-extra-2.1-6 libevent-openssl-2.1-6\n",
            "  libevent-pthreads-2.1-6 libjansson-dev liblua5.2-0 liblua5.2-dev\n",
            "  libmagic-mgc libmagic1 libtool libtool-bin lua5.2\n",
            "0 upgraded, 18 newly installed, 0 to remove and 39 not upgraded.\n",
            "Need to get 1,758 kB of archives.\n",
            "After this operation, 11.6 MB of additional disk space will be used.\n",
            "Get:1 http://archive.ubuntu.com/ubuntu bionic-updates/main amd64 libmagic-mgc amd64 1:5.32-2ubuntu0.4 [184 kB]\n",
            "Get:2 http://archive.ubuntu.com/ubuntu bionic-updates/main amd64 libmagic1 amd64 1:5.32-2ubuntu0.4 [68.6 kB]\n",
            "Get:3 http://archive.ubuntu.com/ubuntu bionic-updates/main amd64 file amd64 1:5.32-2ubuntu0.4 [22.1 kB]\n",
            "Get:4 http://archive.ubuntu.com/ubuntu bionic/main amd64 autotools-dev all 20180224.1 [39.6 kB]\n",
            "Get:5 http://archive.ubuntu.com/ubuntu bionic/universe amd64 libconfig9 amd64 1.5-0.4 [22.1 kB]\n",
            "Get:6 http://archive.ubuntu.com/ubuntu bionic/universe amd64 libconfig-dev amd64 1.5-0.4 [51.3 kB]\n",
            "Get:7 http://archive.ubuntu.com/ubuntu bionic/universe amd64 libconfig-doc all 1.5-0.4 [306 kB]\n",
            "Get:8 http://archive.ubuntu.com/ubuntu bionic/main amd64 libevent-core-2.1-6 amd64 2.1.8-stable-4build1 [85.9 kB]\n",
            "Get:9 http://archive.ubuntu.com/ubuntu bionic/main amd64 libevent-extra-2.1-6 amd64 2.1.8-stable-4build1 [56.2 kB]\n",
            "Get:10 http://archive.ubuntu.com/ubuntu bionic/main amd64 libevent-pthreads-2.1-6 amd64 2.1.8-stable-4build1 [5,228 B]\n",
            "Get:11 http://archive.ubuntu.com/ubuntu bionic/main amd64 libevent-openssl-2.1-6 amd64 2.1.8-stable-4build1 [11.8 kB]\n",
            "Get:12 http://archive.ubuntu.com/ubuntu bionic/main amd64 libevent-dev amd64 2.1.8-stable-4build1 [261 kB]\n",
            "Get:13 http://archive.ubuntu.com/ubuntu bionic/main amd64 libjansson-dev amd64 2.11-1 [30.6 kB]\n",
            "Get:14 http://archive.ubuntu.com/ubuntu bionic/main amd64 liblua5.2-0 amd64 5.2.4-1.1build1 [108 kB]\n",
            "Get:15 http://archive.ubuntu.com/ubuntu bionic/main amd64 liblua5.2-dev amd64 5.2.4-1.1build1 [134 kB]\n",
            "Get:16 http://archive.ubuntu.com/ubuntu bionic/main amd64 libtool all 2.4.6-2 [194 kB]\n",
            "Get:17 http://archive.ubuntu.com/ubuntu bionic/main amd64 libtool-bin amd64 2.4.6-2 [79.5 kB]\n",
            "Get:18 http://archive.ubuntu.com/ubuntu bionic/universe amd64 lua5.2 amd64 5.2.4-1.1build1 [97.7 kB]\n",
            "Fetched 1,758 kB in 2s (1,147 kB/s)\n",
            "debconf: unable to initialize frontend: Dialog\n",
            "debconf: (No usable dialog-like program is installed, so the dialog based frontend cannot be used. at /usr/share/perl5/Debconf/FrontEnd/Dialog.pm line 76, <> line 18.)\n",
            "debconf: falling back to frontend: Readline\n",
            "debconf: unable to initialize frontend: Readline\n",
            "debconf: (This frontend requires a controlling tty.)\n",
            "debconf: falling back to frontend: Teletype\n",
            "dpkg-preconfigure: unable to re-open stdin: \n",
            "Selecting previously unselected package libmagic-mgc.\n",
            "(Reading database ... 160815 files and directories currently installed.)\n",
            "Preparing to unpack .../00-libmagic-mgc_1%3a5.32-2ubuntu0.4_amd64.deb ...\n",
            "Unpacking libmagic-mgc (1:5.32-2ubuntu0.4) ...\n",
            "Selecting previously unselected package libmagic1:amd64.\n",
            "Preparing to unpack .../01-libmagic1_1%3a5.32-2ubuntu0.4_amd64.deb ...\n",
            "Unpacking libmagic1:amd64 (1:5.32-2ubuntu0.4) ...\n",
            "Selecting previously unselected package file.\n",
            "Preparing to unpack .../02-file_1%3a5.32-2ubuntu0.4_amd64.deb ...\n",
            "Unpacking file (1:5.32-2ubuntu0.4) ...\n",
            "Selecting previously unselected package autotools-dev.\n",
            "Preparing to unpack .../03-autotools-dev_20180224.1_all.deb ...\n",
            "Unpacking autotools-dev (20180224.1) ...\n",
            "Selecting previously unselected package libconfig9:amd64.\n",
            "Preparing to unpack .../04-libconfig9_1.5-0.4_amd64.deb ...\n",
            "Unpacking libconfig9:amd64 (1.5-0.4) ...\n",
            "Selecting previously unselected package libconfig-dev:amd64.\n",
            "Preparing to unpack .../05-libconfig-dev_1.5-0.4_amd64.deb ...\n",
            "Unpacking libconfig-dev:amd64 (1.5-0.4) ...\n",
            "Selecting previously unselected package libconfig-doc.\n",
            "Preparing to unpack .../06-libconfig-doc_1.5-0.4_all.deb ...\n",
            "Unpacking libconfig-doc (1.5-0.4) ...\n",
            "Selecting previously unselected package libevent-core-2.1-6:amd64.\n",
            "Preparing to unpack .../07-libevent-core-2.1-6_2.1.8-stable-4build1_amd64.deb ...\n",
            "Unpacking libevent-core-2.1-6:amd64 (2.1.8-stable-4build1) ...\n",
            "Selecting previously unselected package libevent-extra-2.1-6:amd64.\n",
            "Preparing to unpack .../08-libevent-extra-2.1-6_2.1.8-stable-4build1_amd64.deb ...\n",
            "Unpacking libevent-extra-2.1-6:amd64 (2.1.8-stable-4build1) ...\n",
            "Selecting previously unselected package libevent-pthreads-2.1-6:amd64.\n",
            "Preparing to unpack .../09-libevent-pthreads-2.1-6_2.1.8-stable-4build1_amd64.deb ...\n",
            "Unpacking libevent-pthreads-2.1-6:amd64 (2.1.8-stable-4build1) ...\n",
            "Selecting previously unselected package libevent-openssl-2.1-6:amd64.\n",
            "Preparing to unpack .../10-libevent-openssl-2.1-6_2.1.8-stable-4build1_amd64.deb ...\n",
            "Unpacking libevent-openssl-2.1-6:amd64 (2.1.8-stable-4build1) ...\n",
            "Selecting previously unselected package libevent-dev.\n",
            "Preparing to unpack .../11-libevent-dev_2.1.8-stable-4build1_amd64.deb ...\n",
            "Unpacking libevent-dev (2.1.8-stable-4build1) ...\n",
            "Selecting previously unselected package libjansson-dev:amd64.\n",
            "Preparing to unpack .../12-libjansson-dev_2.11-1_amd64.deb ...\n",
            "Unpacking libjansson-dev:amd64 (2.11-1) ...\n",
            "Selecting previously unselected package liblua5.2-0:amd64.\n",
            "Preparing to unpack .../13-liblua5.2-0_5.2.4-1.1build1_amd64.deb ...\n",
            "Unpacking liblua5.2-0:amd64 (5.2.4-1.1build1) ...\n",
            "Selecting previously unselected package liblua5.2-dev:amd64.\n",
            "Preparing to unpack .../14-liblua5.2-dev_5.2.4-1.1build1_amd64.deb ...\n",
            "Unpacking liblua5.2-dev:amd64 (5.2.4-1.1build1) ...\n",
            "Selecting previously unselected package libtool.\n",
            "Preparing to unpack .../15-libtool_2.4.6-2_all.deb ...\n",
            "Unpacking libtool (2.4.6-2) ...\n",
            "Selecting previously unselected package libtool-bin.\n",
            "Preparing to unpack .../16-libtool-bin_2.4.6-2_amd64.deb ...\n",
            "Unpacking libtool-bin (2.4.6-2) ...\n",
            "Selecting previously unselected package lua5.2.\n",
            "Preparing to unpack .../17-lua5.2_5.2.4-1.1build1_amd64.deb ...\n",
            "Unpacking lua5.2 (5.2.4-1.1build1) ...\n",
            "Setting up libevent-core-2.1-6:amd64 (2.1.8-stable-4build1) ...\n",
            "Setting up libevent-openssl-2.1-6:amd64 (2.1.8-stable-4build1) ...\n",
            "Setting up libconfig9:amd64 (1.5-0.4) ...\n",
            "Setting up libmagic-mgc (1:5.32-2ubuntu0.4) ...\n",
            "Setting up libmagic1:amd64 (1:5.32-2ubuntu0.4) ...\n",
            "Setting up libevent-pthreads-2.1-6:amd64 (2.1.8-stable-4build1) ...\n",
            "Setting up autotools-dev (20180224.1) ...\n",
            "Setting up lua5.2 (5.2.4-1.1build1) ...\n",
            "update-alternatives: using /usr/bin/lua5.2 to provide /usr/bin/lua (lua-interpreter) in auto mode\n",
            "update-alternatives: using /usr/bin/luac5.2 to provide /usr/bin/luac (lua-compiler) in auto mode\n",
            "Setting up libjansson-dev:amd64 (2.11-1) ...\n",
            "Setting up libconfig-dev:amd64 (1.5-0.4) ...\n",
            "Setting up liblua5.2-0:amd64 (5.2.4-1.1build1) ...\n",
            "Setting up libconfig-doc (1.5-0.4) ...\n",
            "Setting up libevent-extra-2.1-6:amd64 (2.1.8-stable-4build1) ...\n",
            "Setting up file (1:5.32-2ubuntu0.4) ...\n",
            "Setting up liblua5.2-dev:amd64 (5.2.4-1.1build1) ...\n",
            "Setting up libevent-dev (2.1.8-stable-4build1) ...\n",
            "Setting up libtool (2.4.6-2) ...\n",
            "Setting up libtool-bin (2.4.6-2) ...\n",
            "Processing triggers for man-db (2.8.3-2ubuntu0.1) ...\n",
            "Processing triggers for libc-bin (2.27-3ubuntu1.2) ...\n",
            "/sbin/ldconfig.real: /usr/local/lib/python3.7/dist-packages/ideep4py/lib/libmkldnn.so.0 is not a symbolic link\n",
            "\n"
          ],
          "name": "stdout"
        }
      ]
    },
    {
      "cell_type": "markdown",
      "metadata": {
        "id": "qBBXiFQqpufe"
      },
      "source": [
        ""
      ]
    },
    {
      "cell_type": "code",
      "metadata": {
        "colab": {
          "base_uri": "https://localhost:8080/",
          "height": 434
        },
        "id": "5G8frG9Epuvz",
        "outputId": "297c18aa-34b9-4fdc-9650-191b4cb908fe"
      },
      "source": [
        "!pip install utils\n",
        "!pip install python_utils\n",
        "import logging\n",
        "import argparse\n",
        "\n",
        "from utils import setup_logging\n",
        "from telegram.client import Telegram\n",
        "\n",
        "\"\"\"\n",
        "Sends a message to a chat\n",
        "Usage:\n",
        "    python examples/send_message.py api_id api_hash phone chat_id text\n",
        "\"\"\"\n",
        "\n",
        "\n",
        "if __name__ == '__main__':\n",
        "    setup_logging(level=logging.INFO)\n",
        "\n",
        "    parser = argparse.ArgumentParser()\n",
        "    parser.add_argument('api_id', help='8s45')  # https://my.telegram.org/apps\n",
        "    parser.add_argument('api_hash', help='6f6xxxxxx5a4940b218bb96d1308be91c')\n",
        "    parser.add_argument('phone', help='+9xxxx8')\n",
        "    parser.add_argument('chat_id', help='-1xxxxx7481', type=int)\n",
        "    parser.add_argument('text', help='Message text')\n",
        "    args = parser.parse_args()\n",
        "\n",
        "    tg = Telegram(\n",
        "        api_id=args.api_id,\n",
        "        api_hash=args.api_hash,\n",
        "        phone=args.phone,\n",
        "        database_encryption_key='changeme1234',\n",
        "    )\n",
        "    # you must call login method before others\n",
        "    tg.login()\n",
        "\n",
        "    # if this is the first run, library needs to preload all chats\n",
        "    # otherwise the message will not be sent\n",
        "    result = tg.get_chats()\n",
        "\n",
        "    # `tdlib` is asynchronous, so `python-telegram` always returns you an `AsyncResult` object.\n",
        "    # You can wait for a result with the blocking `wait` method.\n",
        "    result.wait()\n",
        "\n",
        "    if result.error:\n",
        "        print(f'get chats error: {result.error_info}')\n",
        "    else:\n",
        "        print(f'chats: {result.update}')\n",
        "\n",
        "    result = tg.send_message(\n",
        "        chat_id=args.chat_id,\n",
        "        text=args.text,\n",
        "    )\n",
        "\n",
        "    result.wait()\n",
        "    if result.error:\n",
        "        print(f'send message error: {result.error_info}')\n",
        "    else:\n",
        "        print(f'message has been sent: {result.update}')"
      ],
      "execution_count": 63,
      "outputs": [
        {
          "output_type": "stream",
          "text": [
            "Requirement already satisfied: utils in /usr/local/lib/python3.7/dist-packages (1.0.1)\n",
            "Requirement already satisfied: python_utils in /usr/local/lib/python3.7/dist-packages (2.5.6)\n",
            "Requirement already satisfied: six in /usr/local/lib/python3.7/dist-packages (from python_utils) (1.15.0)\n"
          ],
          "name": "stdout"
        },
        {
          "output_type": "error",
          "ename": "ImportError",
          "evalue": "ignored",
          "traceback": [
            "\u001b[0;31m---------------------------------------------------------------------------\u001b[0m",
            "\u001b[0;31mImportError\u001b[0m                               Traceback (most recent call last)",
            "\u001b[0;32m<ipython-input-63-d7b99f6b1a56>\u001b[0m in \u001b[0;36m<module>\u001b[0;34m()\u001b[0m\n\u001b[1;32m      4\u001b[0m \u001b[0;32mimport\u001b[0m \u001b[0margparse\u001b[0m\u001b[0;34m\u001b[0m\u001b[0;34m\u001b[0m\u001b[0m\n\u001b[1;32m      5\u001b[0m \u001b[0;34m\u001b[0m\u001b[0m\n\u001b[0;32m----> 6\u001b[0;31m \u001b[0;32mfrom\u001b[0m \u001b[0mutils\u001b[0m \u001b[0;32mimport\u001b[0m \u001b[0msetup_logging\u001b[0m\u001b[0;34m\u001b[0m\u001b[0;34m\u001b[0m\u001b[0m\n\u001b[0m\u001b[1;32m      7\u001b[0m \u001b[0;32mfrom\u001b[0m \u001b[0mtelegram\u001b[0m\u001b[0;34m.\u001b[0m\u001b[0mclient\u001b[0m \u001b[0;32mimport\u001b[0m \u001b[0mTelegram\u001b[0m\u001b[0;34m\u001b[0m\u001b[0;34m\u001b[0m\u001b[0m\n\u001b[1;32m      8\u001b[0m \u001b[0;34m\u001b[0m\u001b[0m\n",
            "\u001b[0;31mImportError\u001b[0m: cannot import name 'setup_logging' from 'utils' (/usr/local/lib/python3.7/dist-packages/utils/__init__.py)",
            "",
            "\u001b[0;31m---------------------------------------------------------------------------\u001b[0;32m\nNOTE: If your import is failing due to a missing package, you can\nmanually install dependencies using either !pip or !apt.\n\nTo view examples of installing some common dependencies, click the\n\"Open Examples\" button below.\n\u001b[0;31m---------------------------------------------------------------------------\u001b[0m\n"
          ]
        }
      ]
    },
    {
      "cell_type": "code",
      "metadata": {
        "colab": {
          "base_uri": "https://localhost:8080/"
        },
        "id": "2FOLZGhnuik3",
        "outputId": "6319c996-c461-42b6-9d00-c984e22bae69"
      },
      "source": [
        "! pip show requests"
      ],
      "execution_count": 64,
      "outputs": [
        {
          "output_type": "stream",
          "text": [
            "Name: requests\n",
            "Version: 2.23.0\n",
            "Summary: Python HTTP for Humans.\n",
            "Home-page: https://requests.readthedocs.io\n",
            "Author: Kenneth Reitz\n",
            "Author-email: me@kennethreitz.org\n",
            "License: Apache 2.0\n",
            "Location: /usr/local/lib/python3.7/dist-packages\n",
            "Requires: certifi, chardet, idna, urllib3\n",
            "Required-by: tweepy, torchtext, tensorflow-datasets, tensorboard, Sphinx, spacy, soundcloud, scdl, requests-oauthlib, pymystem3, pooch, panel, pandas-datareader, kaggle, gspread, google-colab, google-api-core, gdown, folium, fix-yahoo-finance, fastai, coveralls, community, CacheControl\n"
          ],
          "name": "stdout"
        }
      ]
    }
  ]
}