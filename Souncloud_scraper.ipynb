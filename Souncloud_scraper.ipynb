{
  "nbformat": 4,
  "nbformat_minor": 0,
  "metadata": {
    "colab": {
      "name": "Copy of COLAB_stock_prediction (1).ipynb",
      "provenance": [],
      "collapsed_sections": [],
      "include_colab_link": true
    },
    "kernelspec": {
      "display_name": "Python 3",
      "name": "python3"
    },
    "language_info": {
      "codemirror_mode": {
        "name": "ipython",
        "version": 3
      },
      "file_extension": ".py",
      "mimetype": "text/x-python",
      "name": "python",
      "nbconvert_exporter": "python",
      "pygments_lexer": "ipython3",
      "version": "3.6.1"
    }
  },
  "cells": [
    {
      "cell_type": "markdown",
      "metadata": {
        "id": "view-in-github",
        "colab_type": "text"
      },
      "source": [
        "<a href=\"https://colab.research.google.com/github/elasa-Sites/scdl/blob/master/Souncloud_scraper.ipynb\" target=\"_parent\"><img src=\"https://colab.research.google.com/assets/colab-badge.svg\" alt=\"Open In Colab\"/></a>"
      ]
    },
    {
      "cell_type": "markdown",
      "metadata": {
        "id": "XH3lVg7BYKRM"
      },
      "source": [
        "#Trying for downloading the soundcloud music files by some python module\n",
        "\n",
        "##1- first try by **[scdl][1]** python module, as you can see below:\n",
        "\n",
        "[![enter image description here][2]][2]\n",
        "\n",
        "\n",
        "  [1]: https://github.com/flyingrub/scdl\n",
        "  [2]: https://i.stack.imgur.com/gdI8p.png"
      ]
    },
    {
      "cell_type": "code",
      "metadata": {
        "id": "U2FTAwwQYJqe",
        "colab": {
          "base_uri": "https://localhost:8080/"
        },
        "outputId": "6712a924-046d-4e58-e0f4-db93467bcfd9"
      },
      "source": [
        "!pip3 install git+https://github.com/flyingrub/scdl\n",
        "!scdl -l https://soundcloud.com/pandadub/sets/the-lost-ship --download-archive archive.txt -c"
      ],
      "execution_count": 24,
      "outputs": [
        {
          "output_type": "stream",
          "text": [
            "Collecting git+https://github.com/flyingrub/scdl\n",
            "  Cloning https://github.com/flyingrub/scdl to /tmp/pip-req-build-feeajoo4\n",
            "  Running command git clone -q https://github.com/flyingrub/scdl /tmp/pip-req-build-feeajoo4\n",
            "Requirement already satisfied (use --upgrade to upgrade): scdl==1.6.12 from git+https://github.com/flyingrub/scdl in /usr/local/lib/python3.7/dist-packages\n",
            "Requirement already satisfied: docopt in /usr/local/lib/python3.7/dist-packages (from scdl==1.6.12) (0.6.2)\n",
            "Requirement already satisfied: mutagen in /usr/local/lib/python3.7/dist-packages (from scdl==1.6.12) (1.45.1)\n",
            "Requirement already satisfied: termcolor in /usr/local/lib/python3.7/dist-packages (from scdl==1.6.12) (1.1.0)\n",
            "Requirement already satisfied: requests in /usr/local/lib/python3.7/dist-packages (from scdl==1.6.12) (2.23.0)\n",
            "Requirement already satisfied: clint in /usr/local/lib/python3.7/dist-packages (from scdl==1.6.12) (0.5.1)\n",
            "Requirement already satisfied: urllib3!=1.25.0,!=1.25.1,<1.26,>=1.21.1 in /usr/local/lib/python3.7/dist-packages (from requests->scdl==1.6.12) (1.24.3)\n",
            "Requirement already satisfied: idna<3,>=2.5 in /usr/local/lib/python3.7/dist-packages (from requests->scdl==1.6.12) (2.10)\n",
            "Requirement already satisfied: chardet<4,>=3.0.2 in /usr/local/lib/python3.7/dist-packages (from requests->scdl==1.6.12) (3.0.4)\n",
            "Requirement already satisfied: certifi>=2017.4.17 in /usr/local/lib/python3.7/dist-packages (from requests->scdl==1.6.12) (2021.5.30)\n",
            "Requirement already satisfied: args in /usr/local/lib/python3.7/dist-packages (from clint->scdl==1.6.12) (0.1.0)\n",
            "Building wheels for collected packages: scdl\n",
            "  Building wheel for scdl (setup.py) ... \u001b[?25l\u001b[?25hdone\n",
            "  Created wheel for scdl: filename=scdl-1.6.12-cp37-none-any.whl size=19143 sha256=52465fb705874a70f4d22db6b48932f9025a148f00b4b2350e93b4dc6b125a12\n",
            "  Stored in directory: /tmp/pip-ephem-wheel-cache-9rgpjh6d/wheels/49/44/6e/a5f6f709e7b231f3639ea9f9fc48a4699b958850715556e7f6\n",
            "Successfully built scdl\n",
            "\u001b[37mSoundcloud Downloader\u001b[0m\n",
            "\u001b[37mFound a playlist\u001b[0m\n",
            "\u001b[37mTrack n°1\u001b[0m\n",
            "\u001b[37mDownloading 1 - Milky Way\u001b[0m\n",
            "\u001b[37mSetting tags...\u001b[0m\n",
            "\u001b[37m1 - Milky Way.mp3 Downloaded.\n",
            "\u001b[0m\n",
            "\u001b[37mTrack n°2\u001b[0m\n",
            "\u001b[37mDownloading 2 - Mayd Hubb Meets Pilgrim - Yabby You :: Panda Meets Jamma Dim REMIX\u001b[0m\n",
            "\u001b[37mSetting tags...\u001b[0m\n",
            "\u001b[37m2 - Mayd Hubb Meets Pilgrim - Yabby You  Panda Meets Jamma Dim REMIX.mp3 Downloaded.\n",
            "\u001b[0m\n",
            "\u001b[37mTrack n°3\u001b[0m\n",
            "\u001b[37mDownloading 3 - Feeling Alive\u001b[0m\n",
            "\u001b[37mSetting tags...\u001b[0m\n",
            "\u001b[37m3 - Feeling Alive.mp3 Downloaded.\n",
            "\u001b[0m\n",
            "\u001b[37mTrack n°4\u001b[0m\n",
            "\u001b[37mDownloading 4 - Lost Reality\u001b[0m\n",
            "\u001b[37mSetting tags...\u001b[0m\n",
            "\u001b[37m4 - Lost Reality.mp3 Downloaded.\n",
            "\u001b[0m\n",
            "\u001b[37mTrack n°5\u001b[0m\n",
            "\u001b[37mDownloading 5 - Planet Pillow\u001b[0m\n",
            "\u001b[37mSetting tags...\u001b[0m\n",
            "\u001b[37m5 - Planet Pillow.mp3 Downloaded.\n",
            "\u001b[0m\n",
            "\u001b[37mTrack n°6\u001b[0m\n",
            "\u001b[37mRetrieving more info on the track\u001b[0m\n",
            "\u001b[37mDownloading 6 - Purple trip\u001b[0m\n",
            "\u001b[37mSetting tags...\u001b[0m\n",
            "\u001b[37m6 - Purple trip.mp3 Downloaded.\n",
            "\u001b[0m\n",
            "\u001b[37mTrack n°7\u001b[0m\n",
            "\u001b[37mRetrieving more info on the track\u001b[0m\n",
            "\u001b[37mDownloading 7 - Unknown Attack\u001b[0m\n",
            "\u001b[37mSetting tags...\u001b[0m\n",
            "\u001b[37m7 - Unknown Attack.mp3 Downloaded.\n",
            "\u001b[0m\n",
            "\u001b[37mTrack n°8\u001b[0m\n",
            "\u001b[37mRetrieving more info on the track\u001b[0m\n",
            "\u001b[37mDownloading 8 - Hate\u001b[0m\n",
            "\u001b[37mSetting tags...\u001b[0m\n",
            "\u001b[37m8 - Hate.mp3 Downloaded.\n",
            "\u001b[0m\n",
            "\u001b[37mTrack n°9\u001b[0m\n",
            "\u001b[37mRetrieving more info on the track\u001b[0m\n",
            "\u001b[37mDownloading 9 - Danse Macabre\u001b[0m\n",
            "\u001b[37mSetting tags...\u001b[0m\n",
            "\u001b[37m9 - Danse Macabre.mp3 Downloaded.\n",
            "\u001b[0m\n",
            "\u001b[37mTrack n°10\u001b[0m\n",
            "\u001b[37mRetrieving more info on the track\u001b[0m\n",
            "\u001b[37mDownloading 10 - Die Brücke\u001b[0m\n",
            "\u001b[37mSetting tags...\u001b[0m\n",
            "\u001b[37m10 - Die Brücke.mp3 Downloaded.\n",
            "\u001b[0m\n"
          ],
          "name": "stdout"
        }
      ]
    },
    {
      "cell_type": "code",
      "metadata": {
        "colab": {
          "base_uri": "https://localhost:8080/"
        },
        "id": "iLetPyW3bpbW",
        "outputId": "1582065c-772a-40f4-9f2c-a9a632b38c91"
      },
      "source": [
        "%cd /content\n",
        "!mkdir 'radio-hamrah'\n",
        "%cd radio-hamrah\n",
        "!scdl -l https://soundcloud.com/razhavaniazha-com -a -c  #--download-archive archive.txt -c\n"
      ],
      "execution_count": 34,
      "outputs": [
        {
          "output_type": "stream",
          "text": [
            "/content\n",
            "mkdir: cannot create directory ‘radio-hamrah’: File exists\n",
            "/content/radio-hamrah\n",
            "Usage:\n",
            "    scdl -l <track_url> [-a | -f | -C | -t | -p][-c | --force-metadata][-n <maxtracks>][-o <offset>][--hidewarnings][--debug | --error][--path <path>][--addtofile][--addtimestamp]\n",
            "[--onlymp3][--hide-progress][--min-size <size>][--max-size <size>][--remove][--no-album-tag]\n",
            "[--no-playlist-folder][--download-archive <file>][--extract-artist][--flac]\n",
            "    scdl me (-s | -a | -f | -t | -p | -m)[-c | --force-metadata][-n <maxtracks>][-o <offset>][--hidewarnings][--debug | --error][--path <path>][--addtofile][--addtimestamp]\n",
            "[--onlymp3][--hide-progress][--min-size <size>][--max-size <size>][--remove]\n",
            "[--no-playlist-folder][--download-archive <file>][--extract-artist][--flac][--no-album-tag]\n",
            "    scdl -h | --help\n",
            "    scdl --version\n"
          ],
          "name": "stdout"
        }
      ]
    },
    {
      "cell_type": "code",
      "metadata": {
        "colab": {
          "base_uri": "https://localhost:8080/"
        },
        "id": "PFPZ-5KecIZ2",
        "outputId": "d5483cc2-cef9-4cc1-bd9b-fd4ac4dc2983"
      },
      "source": [
        "!scdl -l https://soundcloud.com/razhavaniazha-com/sets --download-archive archive.txt -c -a\n"
      ],
      "execution_count": 31,
      "outputs": [
        {
          "output_type": "stream",
          "text": [
            "\u001b[37mSoundcloud Downloader\u001b[0m\n",
            "\u001b[31mError resolving url, retrying...\u001b[0m\n",
            "\u001b[31mFailed to get item...\u001b[0m\n"
          ],
          "name": "stdout"
        }
      ]
    },
    {
      "cell_type": "markdown",
      "metadata": {
        "id": "_JL365fqYLhm"
      },
      "source": [
        "#Trying for downloading the soundcloud music files by some python module\n",
        "\n",
        "##2- Second try by **[SoundCloud][1]** python module, as you can see below:\n",
        "\n",
        "[![enter image description here][2]][2]\n",
        "\n",
        "\n",
        "  [1]: https://github.com/yackx/SoundCloud\n",
        "  [2]: https://i.stack.imgur.com/lzmtu.png"
      ]
    },
    {
      "cell_type": "code",
      "metadata": {
        "colab": {
          "base_uri": "https://localhost:8080/"
        },
        "id": "3GmqPCJxZIKs",
        "outputId": "69d64ed4-e5a3-415a-8db3-c87ea55f6619"
      },
      "source": [
        "%cd /content\n",
        "!git clone https://github.com/yackx/SoundCloud.git\n",
        "%cd SoundCloud\n",
        "!python download.py --id e6PnoBAyFVAG788KrTcgqLF0nv4ZaAtQ --track https://soundcloud.com/dj-crontab/indiscriminate-killers\n"
      ],
      "execution_count": 23,
      "outputs": [
        {
          "output_type": "stream",
          "text": [
            "/content\n",
            "fatal: destination path 'SoundCloud' already exists and is not an empty directory.\n",
            "/content/SoundCloud\n",
            "  File \"download.py\", line 54\n",
            "    except urllib2.HTTPError, err:\n",
            "                            ^\n",
            "SyntaxError: invalid syntax\n"
          ],
          "name": "stdout"
        }
      ]
    },
    {
      "cell_type": "code",
      "metadata": {
        "id": "jJ6--Kl3cLIZ"
      },
      "source": [
        "!pip install soundcloud\n",
        "!python download.py --id my_id --playlist https://soundcloud.com/its-me/sets/my-list/sharecode"
      ],
      "execution_count": null,
      "outputs": []
    },
    {
      "cell_type": "code",
      "metadata": {
        "id": "FfhIn2i4dcYa",
        "outputId": "dcca02da-87d6-4adb-eeb3-90e581a0fb1e",
        "colab": {
          "base_uri": "https://localhost:8080/"
        }
      },
      "source": [
        "!pip install soundcloud"
      ],
      "execution_count": 28,
      "outputs": [
        {
          "output_type": "stream",
          "text": [
            "Collecting soundcloud\n",
            "  Downloading https://files.pythonhosted.org/packages/17/b5/fb20e83bae6dfbebb6f36e566111d2e8eb39ad068ddb93b4f04bb42a2b57/soundcloud-0.5.0.tar.gz\n",
            "Collecting fudge>=1.0.3\n",
            "\u001b[?25l  Downloading https://files.pythonhosted.org/packages/65/71/f44731d536a9b146c5d9a4eb9d3bacd8aae7dbb3597382f3f9bd3d015577/fudge-1.1.1.tar.gz (87kB)\n",
            "\u001b[K     |████████████████████████████████| 92kB 5.1MB/s \n",
            "\u001b[?25hRequirement already satisfied: requests>=0.14.0 in /usr/local/lib/python3.7/dist-packages (from soundcloud) (2.23.0)\n",
            "Collecting simplejson>=2.0\n",
            "\u001b[?25l  Downloading https://files.pythonhosted.org/packages/34/f4/9473611e019962edbdc35b69f60363e605f21750c4b75d148560d1c63db0/simplejson-3.17.3-cp37-cp37m-manylinux_2_5_x86_64.manylinux1_x86_64.manylinux_2_12_x86_64.manylinux2010_x86_64.whl (129kB)\n",
            "\u001b[K     |████████████████████████████████| 133kB 17.8MB/s \n",
            "\u001b[?25hRequirement already satisfied: urllib3!=1.25.0,!=1.25.1,<1.26,>=1.21.1 in /usr/local/lib/python3.7/dist-packages (from requests>=0.14.0->soundcloud) (1.24.3)\n",
            "Requirement already satisfied: certifi>=2017.4.17 in /usr/local/lib/python3.7/dist-packages (from requests>=0.14.0->soundcloud) (2021.5.30)\n",
            "Requirement already satisfied: chardet<4,>=3.0.2 in /usr/local/lib/python3.7/dist-packages (from requests>=0.14.0->soundcloud) (3.0.4)\n",
            "Requirement already satisfied: idna<3,>=2.5 in /usr/local/lib/python3.7/dist-packages (from requests>=0.14.0->soundcloud) (2.10)\n",
            "Building wheels for collected packages: soundcloud, fudge\n",
            "  Building wheel for soundcloud (setup.py) ... \u001b[?25l\u001b[?25hdone\n",
            "  Created wheel for soundcloud: filename=soundcloud-0.5.0-cp37-none-any.whl size=12557 sha256=e02464bb28742f8f744cf0d5628a1628e221df3ac899d441932e40bbc695359a\n",
            "  Stored in directory: /root/.cache/pip/wheels/6b/a5/de/fea1762c309717f986652ef62a0e707d302bdcf8137d7ba72d\n",
            "  Building wheel for fudge (setup.py) ... \u001b[?25l\u001b[?25hdone\n",
            "  Created wheel for fudge: filename=fudge-1.1.1-cp37-none-any.whl size=33922 sha256=6d4240b69107e61fc770d3075e1bbc4e37020d56924491b041e7db8ecbe4a1db\n",
            "  Stored in directory: /root/.cache/pip/wheels/36/c8/c1/587018b4a2e09736369e20f1c58736f6bbb7472167e756fceb\n",
            "Successfully built soundcloud fudge\n",
            "Installing collected packages: fudge, simplejson, soundcloud\n",
            "Successfully installed fudge-1.1.1 simplejson-3.17.3 soundcloud-0.5.0\n"
          ],
          "name": "stdout"
        }
      ]
    },
    {
      "cell_type": "code",
      "metadata": {
        "id": "9Jem5WIxdh1s",
        "outputId": "d6baeadb-b049-4f37-8fbd-c66218df5f5e",
        "colab": {
          "base_uri": "https://localhost:8080/",
          "height": 387
        }
      },
      "source": [
        "import soundcloud\n",
        "\n",
        "client = soundcloud.Client(client_id='e6PnoBAyFVAG788KrTcgqLF0nv4ZaAtQ')\n",
        "track = client.get('/tracks/30709985')\n",
        "print (track.title)"
      ],
      "execution_count": 37,
      "outputs": [
        {
          "output_type": "error",
          "ename": "HTTPError",
          "evalue": "ignored",
          "traceback": [
            "\u001b[0;31m---------------------------------------------------------------------------\u001b[0m",
            "\u001b[0;31mHTTPError\u001b[0m                                 Traceback (most recent call last)",
            "\u001b[0;32m<ipython-input-37-3f87ba135e05>\u001b[0m in \u001b[0;36m<module>\u001b[0;34m()\u001b[0m\n\u001b[1;32m      2\u001b[0m \u001b[0;34m\u001b[0m\u001b[0m\n\u001b[1;32m      3\u001b[0m \u001b[0mclient\u001b[0m \u001b[0;34m=\u001b[0m \u001b[0msoundcloud\u001b[0m\u001b[0;34m.\u001b[0m\u001b[0mClient\u001b[0m\u001b[0;34m(\u001b[0m\u001b[0mclient_id\u001b[0m\u001b[0;34m=\u001b[0m\u001b[0;34m'e6PnoBAyFVAG788KrTcgqLF0nv4ZaAtQ'\u001b[0m\u001b[0;34m)\u001b[0m\u001b[0;34m\u001b[0m\u001b[0;34m\u001b[0m\u001b[0m\n\u001b[0;32m----> 4\u001b[0;31m \u001b[0mtrack\u001b[0m \u001b[0;34m=\u001b[0m \u001b[0mclient\u001b[0m\u001b[0;34m.\u001b[0m\u001b[0mget\u001b[0m\u001b[0;34m(\u001b[0m\u001b[0;34m'/tracks/30709985'\u001b[0m\u001b[0;34m)\u001b[0m\u001b[0;34m\u001b[0m\u001b[0;34m\u001b[0m\u001b[0m\n\u001b[0m\u001b[1;32m      5\u001b[0m \u001b[0mprint\u001b[0m \u001b[0;34m(\u001b[0m\u001b[0mtrack\u001b[0m\u001b[0;34m.\u001b[0m\u001b[0mtitle\u001b[0m\u001b[0;34m)\u001b[0m\u001b[0;34m\u001b[0m\u001b[0;34m\u001b[0m\u001b[0m\n",
            "\u001b[0;32m/usr/local/lib/python3.7/dist-packages/soundcloud/client.py\u001b[0m in \u001b[0;36m_request\u001b[0;34m(self, method, resource, **kwargs)\u001b[0m\n\u001b[1;32m    131\u001b[0m             \u001b[0;34m'proxies'\u001b[0m\u001b[0;34m:\u001b[0m \u001b[0mself\u001b[0m\u001b[0;34m.\u001b[0m\u001b[0moptions\u001b[0m\u001b[0;34m.\u001b[0m\u001b[0mget\u001b[0m\u001b[0;34m(\u001b[0m\u001b[0;34m'proxies'\u001b[0m\u001b[0;34m,\u001b[0m \u001b[0;32mNone\u001b[0m\u001b[0;34m)\u001b[0m\u001b[0;34m\u001b[0m\u001b[0;34m\u001b[0m\u001b[0m\n\u001b[1;32m    132\u001b[0m         })\n\u001b[0;32m--> 133\u001b[0;31m         \u001b[0;32mreturn\u001b[0m \u001b[0mwrapped_resource\u001b[0m\u001b[0;34m(\u001b[0m\u001b[0mmake_request\u001b[0m\u001b[0;34m(\u001b[0m\u001b[0mmethod\u001b[0m\u001b[0;34m,\u001b[0m \u001b[0murl\u001b[0m\u001b[0;34m,\u001b[0m \u001b[0mkwargs\u001b[0m\u001b[0;34m)\u001b[0m\u001b[0;34m)\u001b[0m\u001b[0;34m\u001b[0m\u001b[0;34m\u001b[0m\u001b[0m\n\u001b[0m\u001b[1;32m    134\u001b[0m \u001b[0;34m\u001b[0m\u001b[0m\n\u001b[1;32m    135\u001b[0m     \u001b[0;32mdef\u001b[0m \u001b[0m__getattr__\u001b[0m\u001b[0;34m(\u001b[0m\u001b[0mself\u001b[0m\u001b[0;34m,\u001b[0m \u001b[0mname\u001b[0m\u001b[0;34m,\u001b[0m \u001b[0;34m**\u001b[0m\u001b[0mkwargs\u001b[0m\u001b[0;34m)\u001b[0m\u001b[0;34m:\u001b[0m\u001b[0;34m\u001b[0m\u001b[0;34m\u001b[0m\u001b[0m\n",
            "\u001b[0;32m/usr/local/lib/python3.7/dist-packages/soundcloud/request.py\u001b[0m in \u001b[0;36mmake_request\u001b[0;34m(method, url, params)\u001b[0m\n\u001b[1;32m    146\u001b[0m             \u001b[0mresult\u001b[0m\u001b[0;34m.\u001b[0m\u001b[0mraise_for_status\u001b[0m\u001b[0;34m(\u001b[0m\u001b[0;34m)\u001b[0m\u001b[0;34m\u001b[0m\u001b[0;34m\u001b[0m\u001b[0m\n\u001b[1;32m    147\u001b[0m     \u001b[0;32melse\u001b[0m\u001b[0;34m:\u001b[0m\u001b[0;34m\u001b[0m\u001b[0;34m\u001b[0m\u001b[0m\n\u001b[0;32m--> 148\u001b[0;31m         \u001b[0mresult\u001b[0m\u001b[0;34m.\u001b[0m\u001b[0mraise_for_status\u001b[0m\u001b[0;34m(\u001b[0m\u001b[0;34m)\u001b[0m\u001b[0;34m\u001b[0m\u001b[0;34m\u001b[0m\u001b[0m\n\u001b[0m\u001b[1;32m    149\u001b[0m     \u001b[0;32mreturn\u001b[0m \u001b[0mresult\u001b[0m\u001b[0;34m\u001b[0m\u001b[0;34m\u001b[0m\u001b[0m\n",
            "\u001b[0;32m/usr/local/lib/python3.7/dist-packages/requests/models.py\u001b[0m in \u001b[0;36mraise_for_status\u001b[0;34m(self)\u001b[0m\n\u001b[1;32m    939\u001b[0m \u001b[0;34m\u001b[0m\u001b[0m\n\u001b[1;32m    940\u001b[0m         \u001b[0;32mif\u001b[0m \u001b[0mhttp_error_msg\u001b[0m\u001b[0;34m:\u001b[0m\u001b[0;34m\u001b[0m\u001b[0;34m\u001b[0m\u001b[0m\n\u001b[0;32m--> 941\u001b[0;31m             \u001b[0;32mraise\u001b[0m \u001b[0mHTTPError\u001b[0m\u001b[0;34m(\u001b[0m\u001b[0mhttp_error_msg\u001b[0m\u001b[0;34m,\u001b[0m \u001b[0mresponse\u001b[0m\u001b[0;34m=\u001b[0m\u001b[0mself\u001b[0m\u001b[0;34m)\u001b[0m\u001b[0;34m\u001b[0m\u001b[0;34m\u001b[0m\u001b[0m\n\u001b[0m\u001b[1;32m    942\u001b[0m \u001b[0;34m\u001b[0m\u001b[0m\n\u001b[1;32m    943\u001b[0m     \u001b[0;32mdef\u001b[0m \u001b[0mclose\u001b[0m\u001b[0;34m(\u001b[0m\u001b[0mself\u001b[0m\u001b[0;34m)\u001b[0m\u001b[0;34m:\u001b[0m\u001b[0;34m\u001b[0m\u001b[0;34m\u001b[0m\u001b[0m\n",
            "\u001b[0;31mHTTPError\u001b[0m: 403 Client Error: Forbidden for url: https://api.soundcloud.com/tracks/30709985?client_id=e6PnoBAyFVAG788KrTcgqLF0nv4ZaAtQ"
          ]
        }
      ]
    },
    {
      "cell_type": "code",
      "metadata": {
        "id": "aBB6Sr6JfZjj",
        "outputId": "a821c750-c1e5-4cf6-c287-1592da671512",
        "colab": {
          "base_uri": "https://localhost:8080/",
          "height": 405
        }
      },
      "source": [
        "import soundcloud\n",
        "\n",
        "token= 'e6PnoBAyFVAG788KrTcgqLF0nv4ZaAtQ'\n",
        "\n",
        "client = soundcloud.Client(access_token=token)\n",
        "\n",
        "user_info = client.get('/me')\n",
        "\n",
        "user_favorites = client.get('/me/favorites')\n",
        "\n",
        "user_tracks = client.get('/me/tracks')"
      ],
      "execution_count": 39,
      "outputs": [
        {
          "output_type": "error",
          "ename": "HTTPError",
          "evalue": "ignored",
          "traceback": [
            "\u001b[0;31m---------------------------------------------------------------------------\u001b[0m",
            "\u001b[0;31mHTTPError\u001b[0m                                 Traceback (most recent call last)",
            "\u001b[0;32m<ipython-input-39-4c5997046396>\u001b[0m in \u001b[0;36m<module>\u001b[0;34m()\u001b[0m\n\u001b[1;32m      5\u001b[0m \u001b[0mclient\u001b[0m \u001b[0;34m=\u001b[0m \u001b[0msoundcloud\u001b[0m\u001b[0;34m.\u001b[0m\u001b[0mClient\u001b[0m\u001b[0;34m(\u001b[0m\u001b[0maccess_token\u001b[0m\u001b[0;34m=\u001b[0m\u001b[0mtoken\u001b[0m\u001b[0;34m)\u001b[0m\u001b[0;34m\u001b[0m\u001b[0;34m\u001b[0m\u001b[0m\n\u001b[1;32m      6\u001b[0m \u001b[0;34m\u001b[0m\u001b[0m\n\u001b[0;32m----> 7\u001b[0;31m \u001b[0muser_info\u001b[0m \u001b[0;34m=\u001b[0m \u001b[0mclient\u001b[0m\u001b[0;34m.\u001b[0m\u001b[0mget\u001b[0m\u001b[0;34m(\u001b[0m\u001b[0;34m'/me'\u001b[0m\u001b[0;34m)\u001b[0m\u001b[0;34m\u001b[0m\u001b[0;34m\u001b[0m\u001b[0m\n\u001b[0m\u001b[1;32m      8\u001b[0m \u001b[0;34m\u001b[0m\u001b[0m\n\u001b[1;32m      9\u001b[0m \u001b[0muser_favorites\u001b[0m \u001b[0;34m=\u001b[0m \u001b[0mclient\u001b[0m\u001b[0;34m.\u001b[0m\u001b[0mget\u001b[0m\u001b[0;34m(\u001b[0m\u001b[0;34m'/me/favorites'\u001b[0m\u001b[0;34m)\u001b[0m\u001b[0;34m\u001b[0m\u001b[0;34m\u001b[0m\u001b[0m\n",
            "\u001b[0;32m/usr/local/lib/python3.7/dist-packages/soundcloud/client.py\u001b[0m in \u001b[0;36m_request\u001b[0;34m(self, method, resource, **kwargs)\u001b[0m\n\u001b[1;32m    131\u001b[0m             \u001b[0;34m'proxies'\u001b[0m\u001b[0;34m:\u001b[0m \u001b[0mself\u001b[0m\u001b[0;34m.\u001b[0m\u001b[0moptions\u001b[0m\u001b[0;34m.\u001b[0m\u001b[0mget\u001b[0m\u001b[0;34m(\u001b[0m\u001b[0;34m'proxies'\u001b[0m\u001b[0;34m,\u001b[0m \u001b[0;32mNone\u001b[0m\u001b[0;34m)\u001b[0m\u001b[0;34m\u001b[0m\u001b[0;34m\u001b[0m\u001b[0m\n\u001b[1;32m    132\u001b[0m         })\n\u001b[0;32m--> 133\u001b[0;31m         \u001b[0;32mreturn\u001b[0m \u001b[0mwrapped_resource\u001b[0m\u001b[0;34m(\u001b[0m\u001b[0mmake_request\u001b[0m\u001b[0;34m(\u001b[0m\u001b[0mmethod\u001b[0m\u001b[0;34m,\u001b[0m \u001b[0murl\u001b[0m\u001b[0;34m,\u001b[0m \u001b[0mkwargs\u001b[0m\u001b[0;34m)\u001b[0m\u001b[0;34m)\u001b[0m\u001b[0;34m\u001b[0m\u001b[0;34m\u001b[0m\u001b[0m\n\u001b[0m\u001b[1;32m    134\u001b[0m \u001b[0;34m\u001b[0m\u001b[0m\n\u001b[1;32m    135\u001b[0m     \u001b[0;32mdef\u001b[0m \u001b[0m__getattr__\u001b[0m\u001b[0;34m(\u001b[0m\u001b[0mself\u001b[0m\u001b[0;34m,\u001b[0m \u001b[0mname\u001b[0m\u001b[0;34m,\u001b[0m \u001b[0;34m**\u001b[0m\u001b[0mkwargs\u001b[0m\u001b[0;34m)\u001b[0m\u001b[0;34m:\u001b[0m\u001b[0;34m\u001b[0m\u001b[0;34m\u001b[0m\u001b[0m\n",
            "\u001b[0;32m/usr/local/lib/python3.7/dist-packages/soundcloud/request.py\u001b[0m in \u001b[0;36mmake_request\u001b[0;34m(method, url, params)\u001b[0m\n\u001b[1;32m    146\u001b[0m             \u001b[0mresult\u001b[0m\u001b[0;34m.\u001b[0m\u001b[0mraise_for_status\u001b[0m\u001b[0;34m(\u001b[0m\u001b[0;34m)\u001b[0m\u001b[0;34m\u001b[0m\u001b[0;34m\u001b[0m\u001b[0m\n\u001b[1;32m    147\u001b[0m     \u001b[0;32melse\u001b[0m\u001b[0;34m:\u001b[0m\u001b[0;34m\u001b[0m\u001b[0;34m\u001b[0m\u001b[0m\n\u001b[0;32m--> 148\u001b[0;31m         \u001b[0mresult\u001b[0m\u001b[0;34m.\u001b[0m\u001b[0mraise_for_status\u001b[0m\u001b[0;34m(\u001b[0m\u001b[0;34m)\u001b[0m\u001b[0;34m\u001b[0m\u001b[0;34m\u001b[0m\u001b[0m\n\u001b[0m\u001b[1;32m    149\u001b[0m     \u001b[0;32mreturn\u001b[0m \u001b[0mresult\u001b[0m\u001b[0;34m\u001b[0m\u001b[0;34m\u001b[0m\u001b[0m\n",
            "\u001b[0;32m/usr/local/lib/python3.7/dist-packages/requests/models.py\u001b[0m in \u001b[0;36mraise_for_status\u001b[0;34m(self)\u001b[0m\n\u001b[1;32m    939\u001b[0m \u001b[0;34m\u001b[0m\u001b[0m\n\u001b[1;32m    940\u001b[0m         \u001b[0;32mif\u001b[0m \u001b[0mhttp_error_msg\u001b[0m\u001b[0;34m:\u001b[0m\u001b[0;34m\u001b[0m\u001b[0;34m\u001b[0m\u001b[0m\n\u001b[0;32m--> 941\u001b[0;31m             \u001b[0;32mraise\u001b[0m \u001b[0mHTTPError\u001b[0m\u001b[0;34m(\u001b[0m\u001b[0mhttp_error_msg\u001b[0m\u001b[0;34m,\u001b[0m \u001b[0mresponse\u001b[0m\u001b[0;34m=\u001b[0m\u001b[0mself\u001b[0m\u001b[0;34m)\u001b[0m\u001b[0;34m\u001b[0m\u001b[0;34m\u001b[0m\u001b[0m\n\u001b[0m\u001b[1;32m    942\u001b[0m \u001b[0;34m\u001b[0m\u001b[0m\n\u001b[1;32m    943\u001b[0m     \u001b[0;32mdef\u001b[0m \u001b[0mclose\u001b[0m\u001b[0;34m(\u001b[0m\u001b[0mself\u001b[0m\u001b[0;34m)\u001b[0m\u001b[0;34m:\u001b[0m\u001b[0;34m\u001b[0m\u001b[0;34m\u001b[0m\u001b[0m\n",
            "\u001b[0;31mHTTPError\u001b[0m: 401 Client Error: Unauthorized for url: https://api.soundcloud.com/me?oauth_token=e6PnoBAyFVAG788KrTcgqLF0nv4ZaAtQ"
          ]
        }
      ]
    },
    {
      "cell_type": "code",
      "metadata": {
        "id": "zeS0iC6fgNe7",
        "outputId": "a52f8fbb-7e0d-4131-f724-fe9b0243f9ba",
        "colab": {
          "base_uri": "https://localhost:8080/",
          "height": 352
        }
      },
      "source": [
        "import soundcloud\n",
        "\n",
        "client = soundcloud.Client(access_token=\"e6PnoBAyFVAG788KrTcgqLF0nv4ZaAtQ\")\n",
        "user_id_to_follow = 123\n",
        "client.put('/me/followings/%d' % user_id_to_follow)"
      ],
      "execution_count": 40,
      "outputs": [
        {
          "output_type": "error",
          "ename": "HTTPError",
          "evalue": "ignored",
          "traceback": [
            "\u001b[0;31m---------------------------------------------------------------------------\u001b[0m",
            "\u001b[0;31mHTTPError\u001b[0m                                 Traceback (most recent call last)",
            "\u001b[0;32m<ipython-input-40-bc4b77de12fb>\u001b[0m in \u001b[0;36m<module>\u001b[0;34m()\u001b[0m\n\u001b[1;32m      3\u001b[0m \u001b[0mclient\u001b[0m \u001b[0;34m=\u001b[0m \u001b[0msoundcloud\u001b[0m\u001b[0;34m.\u001b[0m\u001b[0mClient\u001b[0m\u001b[0;34m(\u001b[0m\u001b[0maccess_token\u001b[0m\u001b[0;34m=\u001b[0m\u001b[0;34m\"e6PnoBAyFVAG788KrTcgqLF0nv4ZaAtQ\"\u001b[0m\u001b[0;34m)\u001b[0m\u001b[0;34m\u001b[0m\u001b[0;34m\u001b[0m\u001b[0m\n\u001b[1;32m      4\u001b[0m \u001b[0muser_id_to_follow\u001b[0m \u001b[0;34m=\u001b[0m \u001b[0;36m123\u001b[0m\u001b[0;34m\u001b[0m\u001b[0;34m\u001b[0m\u001b[0m\n\u001b[0;32m----> 5\u001b[0;31m \u001b[0mclient\u001b[0m\u001b[0;34m.\u001b[0m\u001b[0mput\u001b[0m\u001b[0;34m(\u001b[0m\u001b[0;34m'/me/followings/%d'\u001b[0m \u001b[0;34m%\u001b[0m \u001b[0muser_id_to_follow\u001b[0m\u001b[0;34m)\u001b[0m\u001b[0;34m\u001b[0m\u001b[0;34m\u001b[0m\u001b[0m\n\u001b[0m",
            "\u001b[0;32m/usr/local/lib/python3.7/dist-packages/soundcloud/client.py\u001b[0m in \u001b[0;36m_request\u001b[0;34m(self, method, resource, **kwargs)\u001b[0m\n\u001b[1;32m    131\u001b[0m             \u001b[0;34m'proxies'\u001b[0m\u001b[0;34m:\u001b[0m \u001b[0mself\u001b[0m\u001b[0;34m.\u001b[0m\u001b[0moptions\u001b[0m\u001b[0;34m.\u001b[0m\u001b[0mget\u001b[0m\u001b[0;34m(\u001b[0m\u001b[0;34m'proxies'\u001b[0m\u001b[0;34m,\u001b[0m \u001b[0;32mNone\u001b[0m\u001b[0;34m)\u001b[0m\u001b[0;34m\u001b[0m\u001b[0;34m\u001b[0m\u001b[0m\n\u001b[1;32m    132\u001b[0m         })\n\u001b[0;32m--> 133\u001b[0;31m         \u001b[0;32mreturn\u001b[0m \u001b[0mwrapped_resource\u001b[0m\u001b[0;34m(\u001b[0m\u001b[0mmake_request\u001b[0m\u001b[0;34m(\u001b[0m\u001b[0mmethod\u001b[0m\u001b[0;34m,\u001b[0m \u001b[0murl\u001b[0m\u001b[0;34m,\u001b[0m \u001b[0mkwargs\u001b[0m\u001b[0;34m)\u001b[0m\u001b[0;34m)\u001b[0m\u001b[0;34m\u001b[0m\u001b[0;34m\u001b[0m\u001b[0m\n\u001b[0m\u001b[1;32m    134\u001b[0m \u001b[0;34m\u001b[0m\u001b[0m\n\u001b[1;32m    135\u001b[0m     \u001b[0;32mdef\u001b[0m \u001b[0m__getattr__\u001b[0m\u001b[0;34m(\u001b[0m\u001b[0mself\u001b[0m\u001b[0;34m,\u001b[0m \u001b[0mname\u001b[0m\u001b[0;34m,\u001b[0m \u001b[0;34m**\u001b[0m\u001b[0mkwargs\u001b[0m\u001b[0;34m)\u001b[0m\u001b[0;34m:\u001b[0m\u001b[0;34m\u001b[0m\u001b[0;34m\u001b[0m\u001b[0m\n",
            "\u001b[0;32m/usr/local/lib/python3.7/dist-packages/soundcloud/request.py\u001b[0m in \u001b[0;36mmake_request\u001b[0;34m(method, url, params)\u001b[0m\n\u001b[1;32m    146\u001b[0m             \u001b[0mresult\u001b[0m\u001b[0;34m.\u001b[0m\u001b[0mraise_for_status\u001b[0m\u001b[0;34m(\u001b[0m\u001b[0;34m)\u001b[0m\u001b[0;34m\u001b[0m\u001b[0;34m\u001b[0m\u001b[0m\n\u001b[1;32m    147\u001b[0m     \u001b[0;32melse\u001b[0m\u001b[0;34m:\u001b[0m\u001b[0;34m\u001b[0m\u001b[0;34m\u001b[0m\u001b[0m\n\u001b[0;32m--> 148\u001b[0;31m         \u001b[0mresult\u001b[0m\u001b[0;34m.\u001b[0m\u001b[0mraise_for_status\u001b[0m\u001b[0;34m(\u001b[0m\u001b[0;34m)\u001b[0m\u001b[0;34m\u001b[0m\u001b[0;34m\u001b[0m\u001b[0m\n\u001b[0m\u001b[1;32m    149\u001b[0m     \u001b[0;32mreturn\u001b[0m \u001b[0mresult\u001b[0m\u001b[0;34m\u001b[0m\u001b[0;34m\u001b[0m\u001b[0m\n",
            "\u001b[0;32m/usr/local/lib/python3.7/dist-packages/requests/models.py\u001b[0m in \u001b[0;36mraise_for_status\u001b[0;34m(self)\u001b[0m\n\u001b[1;32m    939\u001b[0m \u001b[0;34m\u001b[0m\u001b[0m\n\u001b[1;32m    940\u001b[0m         \u001b[0;32mif\u001b[0m \u001b[0mhttp_error_msg\u001b[0m\u001b[0;34m:\u001b[0m\u001b[0;34m\u001b[0m\u001b[0;34m\u001b[0m\u001b[0m\n\u001b[0;32m--> 941\u001b[0;31m             \u001b[0;32mraise\u001b[0m \u001b[0mHTTPError\u001b[0m\u001b[0;34m(\u001b[0m\u001b[0mhttp_error_msg\u001b[0m\u001b[0;34m,\u001b[0m \u001b[0mresponse\u001b[0m\u001b[0;34m=\u001b[0m\u001b[0mself\u001b[0m\u001b[0;34m)\u001b[0m\u001b[0;34m\u001b[0m\u001b[0;34m\u001b[0m\u001b[0m\n\u001b[0m\u001b[1;32m    942\u001b[0m \u001b[0;34m\u001b[0m\u001b[0m\n\u001b[1;32m    943\u001b[0m     \u001b[0;32mdef\u001b[0m \u001b[0mclose\u001b[0m\u001b[0;34m(\u001b[0m\u001b[0mself\u001b[0m\u001b[0;34m)\u001b[0m\u001b[0;34m:\u001b[0m\u001b[0;34m\u001b[0m\u001b[0;34m\u001b[0m\u001b[0m\n",
            "\u001b[0;31mHTTPError\u001b[0m: 401 Client Error: Unauthorized for url: https://api.soundcloud.com/me/followings/123"
          ]
        }
      ]
    },
    {
      "cell_type": "code",
      "metadata": {
        "colab": {
          "base_uri": "https://localhost:8080/"
        },
        "id": "30X4uMWxhaBX",
        "outputId": "6ce7e450-5af3-41fb-f18b-db0c87864cbe"
      },
      "source": [
        "!pip install youtube-dl\n",
        "!youtube-dl -v https://soundcloud.com/oneireuthslowbap/kantonamoiazei\n"
      ],
      "execution_count": 41,
      "outputs": [
        {
          "output_type": "stream",
          "text": [
            "Collecting youtube-dl\n",
            "\u001b[?25l  Downloading https://files.pythonhosted.org/packages/a4/43/1f586e49e68f8b41c4be416302bf96ddd5040b0e744b5902d51063795eb9/youtube_dl-2021.6.6-py2.py3-none-any.whl (1.9MB)\n",
            "\u001b[K     |████████████████████████████████| 1.9MB 8.7MB/s \n",
            "\u001b[?25hInstalling collected packages: youtube-dl\n",
            "Successfully installed youtube-dl-2021.6.6\n",
            "[debug] System config: []\n",
            "[debug] User config: []\n",
            "[debug] Custom config: []\n",
            "[debug] Command-line args: ['-v', 'https://soundcloud.com/oneireuthslowbap/kantonamoiazei']\n",
            "[debug] Encodings: locale UTF-8, fs utf-8, out UTF-8, pref UTF-8\n",
            "[debug] youtube-dl version 2021.06.06\n",
            "[debug] Python version 3.7.10 (CPython) - Linux-5.4.104+-x86_64-with-Ubuntu-18.04-bionic\n",
            "[debug] exe versions: ffmpeg 3.4.8, ffprobe 3.4.8\n",
            "[debug] Proxy map: {}\n",
            "[soundcloud] oneireuthslowbap/kantonamoiazei: Downloading info JSON\n",
            "[soundcloud] None: Downloading webpage\n",
            "[soundcloud] None: Downloading webpage\n",
            "[soundcloud] oneireuthslowbap/kantonamoiazei: Downloading info JSON\n",
            "[soundcloud] 544978293: Downloading JSON metadata\n",
            "[soundcloud] 544978293: Downloading JSON metadata\n",
            "[soundcloud] 544978293: Downloading JSON metadata\n",
            "[debug] Default format spec: bestvideo+bestaudio/best\n",
            "[debug] Invoking downloader on 'https://cf-media.sndcdn.com/CGyDcQJB4V3G.128.mp3?Policy=eyJTdGF0ZW1lbnQiOlt7IlJlc291cmNlIjoiKjovL2NmLW1lZGlhLnNuZGNkbi5jb20vQ0d5RGNRSkI0VjNHLjEyOC5tcDMiLCJDb25kaXRpb24iOnsiRGF0ZUxlc3NUaGFuIjp7IkFXUzpFcG9jaFRpbWUiOjE2MjYyMDc5OTh9fX1dfQ__&Signature=D7hOz-UHQnbR-CJT9O8ne9wu8QzJGiB6QlZ0ISZCOuAqL51o-B5qH~gsAVRtN1ohL6b-SwE9UNWgmIBdYR~evyQw5q4Z18aNoYqbaGeu2t4nsSB3w6M7yAtzkWVVmpVmxn~F-Ybtt1bgqubU4sw2IdOBmzBbs6KQXXIZw77Iu0eaSSQeQ5qK3GieZabWPvuKIer-OsxaQ0CZ9wuwXEtbLOh9J9aHITUBXtgv-BBi3WnFzCAKww0iIOPWv1vdhzmbppKA4sjYlJI-PqFkx9iOd6MJP2r01B6BQ3s1NA1fBi6sFLAUXgRuFyBKzWgUQVU6s-u9fPxQ7vNWlHCpVs9g5Q__&Key-Pair-Id=APKAI6TU7MMXM5DG6EPQ'\n",
            "[download] Destination: Ονειρευτής - Καν'το να μοιάζει-544978293.mp3\n",
            "\u001b[K[download] 100% of 4.87MiB in 00:00\n"
          ],
          "name": "stdout"
        }
      ]
    },
    {
      "cell_type": "code",
      "metadata": {
        "id": "JZBQ7PDphqNR"
      },
      "source": [
        "!youtube-dl -g \"https://soundcloud.com/username-goes-here/likes\""
      ],
      "execution_count": 43,
      "outputs": []
    },
    {
      "cell_type": "code",
      "metadata": {
        "colab": {
          "base_uri": "https://localhost:8080/"
        },
        "id": "KpchQzqDhwXR",
        "outputId": "62b2560d-0146-46de-e161-f6e3e19b4fad"
      },
      "source": [
        "!youtube-dl  'https://soundcloud.com/razhavaniazha-com' -v"
      ],
      "execution_count": 45,
      "outputs": [
        {
          "output_type": "stream",
          "text": [
            "[debug] System config: []\n",
            "[debug] User config: []\n",
            "[debug] Custom config: []\n",
            "[debug] Command-line args: ['https://soundcloud.com/razhavaniazha-com', '-v']\n",
            "[debug] Encodings: locale UTF-8, fs utf-8, out UTF-8, pref UTF-8\n",
            "[debug] youtube-dl version 2021.06.06\n",
            "[debug] Python version 3.7.10 (CPython) - Linux-5.4.104+-x86_64-with-Ubuntu-18.04-bionic\n",
            "[debug] exe versions: ffmpeg 3.4.8, ffprobe 3.4.8\n",
            "[debug] Proxy map: {}\n",
            "[soundcloud:user] razhavaniazha-com: Downloading user info\n",
            "[soundcloud:user] 34408815: Downloading track page 1\n",
            "[soundcloud:user] 34408815: Downloading track page 2\n",
            "[soundcloud:user] 34408815: Downloading track page 3\n",
            "[soundcloud:user] 34408815: Downloading track page 4\n",
            "[soundcloud:user] 34408815: Downloading track page 5\n",
            "[soundcloud:user] 34408815: Downloading track page 6\n",
            "[soundcloud:user] 34408815: Downloading track page 7\n",
            "[soundcloud:user] 34408815: Downloading track page 8\n",
            "[soundcloud:user] 34408815: Downloading track page 9\n",
            "[soundcloud:user] 34408815: Downloading track page 10\n",
            "[soundcloud:user] 34408815: Downloading track page 11\n",
            "[soundcloud:user] 34408815: Downloading track page 12\n",
            "[soundcloud:user] 34408815: Downloading track page 13\n",
            "[soundcloud:user] 34408815: Downloading track page 14\n",
            "[soundcloud:user] 34408815: Downloading track page 15\n",
            "[soundcloud:user] 34408815: Downloading track page 16\n",
            "[soundcloud:user] 34408815: Downloading track page 17\n",
            "[soundcloud:user] 34408815: Downloading track page 18\n",
            "[soundcloud:user] 34408815: Downloading track page 19\n",
            "[soundcloud:user] 34408815: Downloading track page 20\n",
            "[soundcloud:user] 34408815: Downloading track page 21\n",
            "[soundcloud:user] 34408815: Downloading track page 22\n",
            "[soundcloud:user] 34408815: Downloading track page 23\n",
            "[soundcloud:user] 34408815: Downloading track page 24\n",
            "[download] Downloading playlist: Razha va Niazha (All)\n",
            "[soundcloud:user] playlist Razha va Niazha (All): Collected 4 video ids (downloading 4 of them)\n",
            "[download] Downloading video 1 of 4\n",
            "[soundcloud] razhavaniazha-com/13-04-2020-r-m: Downloading info JSON\n",
            "[soundcloud] 797723128: Downloading JSON metadata\n",
            "[soundcloud] 797723128: Downloading JSON metadata\n",
            "[soundcloud] 797723128: Downloading JSON metadata\n",
            "[debug] Default format spec: bestvideo+bestaudio/best\n",
            "[debug] Invoking downloader on 'https://cf-media.sndcdn.com/5kyGaCghIMQX.128.mp3?Policy=eyJTdGF0ZW1lbnQiOlt7IlJlc291cmNlIjoiKjovL2NmLW1lZGlhLnNuZGNkbi5jb20vNWt5R2FDZ2hJTVFYLjEyOC5tcDMiLCJDb25kaXRpb24iOnsiRGF0ZUxlc3NUaGFuIjp7IkFXUzpFcG9jaFRpbWUiOjE2MjYyMTUwMzJ9fX1dfQ__&Signature=GAA67Ze~4L0-YPmF17jnR2niZ7CSYUDhp2Xxo3pslFpQmKACOFbSzidXSZfWKIOxL93yO5qjdBLLSg6a7ZVfjN7UeM2blP~IzjH0Sx7dhj2d0cREB2fIZnjLNOE8uc76zdlAj0hqdNovGSqrdeyihdWGY4c8aDP6iZCCYqDqX0OPUsh05UJLYnr8zIEh1ghjTRYg2TEOoZNC1tc8WE1npXUOVamffB~CGfhWQxHGVvRqd3QIA5PNKXhUWDE0rsbSBuZg7AF66wF0-og8uvBzT8CQN3gmXYeGQ1LNDyJ3mVPdn867xW88eR~mSWTyvjEIBw5HcmDwjktuP2E4Mn~i0w__&Key-Pair-Id=APKAI6TU7MMXM5DG6EPQ'\n",
            "[download] Destination: 13.April 2020 - دکتر هلاکویی , رازها و نیازها, صبح-797723128.mp3\n",
            "\u001b[K[download] 100% of 109.03MiB in 00:04\n",
            "[download] Downloading video 2 of 4\n",
            "[soundcloud] user-989372367/december-05-2016-in-session-with-dr-farid-holakouee: Downloading info JSON\n",
            "[soundcloud] 296884356: Downloading JSON metadata\n",
            "[soundcloud] 296884356: Downloading JSON metadata\n",
            "[soundcloud] 296884356: Downloading JSON metadata\n",
            "[debug] Default format spec: bestvideo+bestaudio/best\n",
            "[debug] Invoking downloader on 'https://cf-media.sndcdn.com/hfF9SNqqHNqc.128.mp3?Policy=eyJTdGF0ZW1lbnQiOlt7IlJlc291cmNlIjoiKjovL2NmLW1lZGlhLnNuZGNkbi5jb20vaGZGOVNOcXFITnFjLjEyOC5tcDMiLCJDb25kaXRpb24iOnsiRGF0ZUxlc3NUaGFuIjp7IkFXUzpFcG9jaFRpbWUiOjE2MjYyMTA3OTZ9fX1dfQ__&Signature=AsYFct-WzFhWN9u2PAPcLz~h1qAwA48cVl885vIw0WOV3IaEnU4eV55gFrwa4W7jeM57ha-DOwwd6PdH09TB~0aNoQcsrtnrUQULnuLOXAVaNCwCLV-zxyv2WIMOrRQKLvVVKI1bcEGgTlQiwSNf23SqhuPwTGgKESiYsIeoH9e-I83tpJFVlKNppbes6m6qjb9BJoAo9fHjA3zNfCX0~n9If4RbIKk0fnhA9-C0iiwKVqLEAprbCp8yQgzbobqTNsSMANbhJdTAWCp4A9m09jdiJ6fsgLd9HcyvalOkt9Ocyf1o1qyFlsgz9Qo51YH8ExET4-f2Q7Q5hg1Qh07ErA__&Key-Pair-Id=APKAI6TU7MMXM5DG6EPQ'\n",
            "[download] Destination: December 05, 2016 In Session with Dr. Farid Holakouee-296884356.mp3\n",
            "\u001b[K[download] 100% of 44.31MiB in 00:02\n",
            "[download] Downloading video 3 of 4\n",
            "[soundcloud] user-989372367/december-07-2016-in-session-with-dr-farid-holakouee: Downloading info JSON\n",
            "[soundcloud] 296886412: Downloading JSON metadata\n",
            "[soundcloud] 296886412: Downloading JSON metadata\n",
            "[soundcloud] 296886412: Downloading JSON metadata\n",
            "[debug] Default format spec: bestvideo+bestaudio/best\n",
            "[debug] Invoking downloader on 'https://cf-media.sndcdn.com/1zBjNKfYrKQ7.128.mp3?Policy=eyJTdGF0ZW1lbnQiOlt7IlJlc291cmNlIjoiKjovL2NmLW1lZGlhLnNuZGNkbi5jb20vMXpCak5LZllyS1E3LjEyOC5tcDMiLCJDb25kaXRpb24iOnsiRGF0ZUxlc3NUaGFuIjp7IkFXUzpFcG9jaFRpbWUiOjE2MjYyMTM2NDB9fX1dfQ__&Signature=EhCYroXY2NQrkANEYA~hffyrFv1gVeQx6dU9jlVUalRf~u001mgznyZwbmm73M3h7jHfNRWtMILH-exUcJETrxsq2mF9BVjRaaUggS1iJ9z~ohRUDuQTRboU6X3bATrWxzVx4S0BRfvnFTjsoYhjsFYBZshwpkG0wZVlPXRW8y5jjThaBtlZ0CPhFNZYw~4TOJ-eJ0kyFGa0rTEd3sVepgoF~aUrDLMjFQ2CONBsSeMZo7qEdgoQHsegDXxoF~bPAhk5JUbEsB3hhN8drzg0pDiihThU20SZkEY8umxQLEYKQZgXnELUhgC8a1K5PXtTjEBwVoutSbEW~Z10TlYpXg__&Key-Pair-Id=APKAI6TU7MMXM5DG6EPQ'\n",
            "[download] Destination: December 07, 2016 In Session with Dr. Farid Holakouee-296886412.mp3\n",
            "\u001b[K[download] 100% of 87.65MiB in 00:03\n",
            "[download] Downloading video 4 of 4\n",
            "[soundcloud:set] razhavaniazha-com/sets/june-2013: Downloading JSON metadata\n",
            "[download] Downloading playlist: June 2013\n",
            "[soundcloud:set] playlist June 2013: Collected 0 video ids (downloading 0 of them)\n",
            "[download] Finished downloading playlist: June 2013\n",
            "[download] Finished downloading playlist: Razha va Niazha (All)\n"
          ],
          "name": "stdout"
        }
      ]
    },
    {
      "cell_type": "markdown",
      "metadata": {
        "id": "-UCrI08GguRE"
      },
      "source": [
        "# Uploading MP3 files to telegram Group:\n"
      ]
    },
    {
      "cell_type": "markdown",
      "metadata": {
        "id": "jFFlo4YjjhDd"
      },
      "source": [
        "##if you want to send the file with pure requests lib, you can use following snippet:\n",
        "[![enter image description here][1]][1]\n",
        "\n",
        "\n",
        "  [1]: https://i.stack.imgur.com/NZNJD.png"
      ]
    },
    {
      "cell_type": "code",
      "metadata": {
        "id": "zErP64CVjtcp",
        "outputId": "82505ed0-7b37-487e-cde0-c71a241cc330",
        "colab": {
          "base_uri": "https://localhost:8080/",
          "height": 132
        }
      },
      "source": [
        "import requests\n",
        "with open('tests/test.mp3', 'rb') as audio:\n",
        "    payload = {\n",
        "        'chat_id': TELEGRAM_CHAT_ID,\n",
        "        'title': 'file.mp3'\n",
        "        'parse_mode': 'HTML'\n",
        "    }\n",
        "    files = {\n",
        "        'audio': audio.read(),\n",
        "    }\n",
        "    resp = requests.post(\n",
        "        \"https://api.telegram.org/bot{token}/sendAudio\".format(token=TELEGRAM_TOKEN),\n",
        "        data=payload,\n",
        "        files=files).json()"
      ],
      "execution_count": 18,
      "outputs": [
        {
          "output_type": "error",
          "ename": "SyntaxError",
          "evalue": "ignored",
          "traceback": [
            "\u001b[0;36m  File \u001b[0;32m\"<ipython-input-18-5ab2c1cff308>\"\u001b[0;36m, line \u001b[0;32m6\u001b[0m\n\u001b[0;31m    'parse_mode': 'HTML'\u001b[0m\n\u001b[0m                ^\u001b[0m\n\u001b[0;31mSyntaxError\u001b[0m\u001b[0;31m:\u001b[0m invalid syntax\n"
          ]
        }
      ]
    },
    {
      "cell_type": "markdown",
      "metadata": {
        "id": "Q8z7akjwjNN8"
      },
      "source": [
        "## Uploading to telegram Chanel by  [`pip install telegram-upload`](https://pypi.org/project/telegram-upload/)\n",
        "[![enter image description here][1]][1]\n",
        "\n",
        "\n",
        "  [1]: https://i.stack.imgur.com/6LXHs.png\n",
        "\n"
      ]
    },
    {
      "cell_type": "code",
      "metadata": {
        "id": "sr3pxSpZg0Tq"
      },
      "source": [
        "!pip3 install -U telegram-upload"
      ],
      "execution_count": null,
      "outputs": []
    },
    {
      "cell_type": "code",
      "metadata": {
        "id": "gBmJGA9Mh1WF"
      },
      "source": [
        "!telegram-upload file1.mp4 /path/to/file2.mkv"
      ],
      "execution_count": null,
      "outputs": []
    },
    {
      "cell_type": "markdown",
      "metadata": {
        "id": "m2_9LTDRioeE"
      },
      "source": [
        "#Uploading to telegram chanel by  [`pip install telegram-cloud`](https://pypi.org/project/telegram-cloud/)\n",
        "[![enter image description here][1]][1]\n",
        "\n",
        "\n",
        "  [1]: https://i.stack.imgur.com/pe3K2.png\n",
        "\n"
      ]
    },
    {
      "cell_type": "code",
      "metadata": {
        "id": "f3VmSJU3ip7W"
      },
      "source": [
        "!pip install telegram-cloud"
      ],
      "execution_count": null,
      "outputs": []
    }
  ]
}